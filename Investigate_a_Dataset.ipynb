{
 "cells": [
  {
   "cell_type": "markdown",
   "metadata": {},
   "source": [
    "\n",
    "# Project: Data analysis of TMDb movies\n",
    "\n",
    "## Table of Contents\n",
    "<ul>\n",
    "<li><a href=\"#intro\">Introduction</a></li>\n",
    "<li><a href=\"#wrangling\">Data Wrangling</a></li>\n",
    "<li><a href=\"#eda\">Exploratory Data Analysis</a></li>\n",
    "<li><a href=\"#limitation\">Limitations</a></li>\n",
    "<li><a href=\"#conclusions\">Conclusions</a></li>\n",
    "</ul>"
   ]
  },
  {
   "cell_type": "markdown",
   "metadata": {},
   "source": [
    "<a id='intro'></a>\n",
    "## Introduction\n",
    "\n",
    "    In these days, it would be absurd if there exists a person who never watched movies in his/her entire life in USA. \n",
    "\n",
    "    Despite the fact that movies are part of our lives, not all people actually know which factors in movie create \n",
    "    its popularity.\n",
    "    \n",
    "    Then, \"What is really with popular movies?\"\n",
    "    \n",
    "    This simple question led this paper's existence and the analysis aims to provide insights from the real TMDb data.\n",
    "    This analysis is formed to answer two quetions :\n",
    "    \n",
    "    1. Which factors affect movie to its popularity ?\n",
    "    \n",
    "    2. Will the factors above top 25% affect the popularity same as question 1 ?\n",
    "    \n",
    "    3. Which genre trend has been famous over time?\n",
    "\n",
    "    "
   ]
  },
  {
   "cell_type": "code",
   "execution_count": 1,
   "metadata": {},
   "outputs": [],
   "source": [
    "# Importing numpy, pandas, matplotlib, and seaborn\n",
    "import numpy as np\n",
    "import pandas as pd\n",
    "import matplotlib.pyplot as plt\n",
    "import seaborn as sns\n",
    "% matplotlib inline"
   ]
  },
  {
   "cell_type": "markdown",
   "metadata": {},
   "source": [
    "<a id='wrangling'></a>\n",
    "## Data Wrangling\n",
    "For the process of data wrangling, I shall first check the shape of the data and investigate which columns are unncessary that shall be dropped. Then I shall drop the unncessary factors and will check the existence of NA values and duplicate values and will drop them.\n",
    "\n",
    "Furthermore, I will create new dataframe that consist only of genres, time, and popularity so that I can facilitate to answer question 2.\n",
    "\n",
    "### General Properties"
   ]
  },
  {
   "cell_type": "code",
   "execution_count": 2,
   "metadata": {},
   "outputs": [],
   "source": [
    "# Calling out the data\n",
    "df = pd.read_csv('tmdb-movies.csv') "
   ]
  },
  {
   "cell_type": "code",
   "execution_count": 3,
   "metadata": {
    "scrolled": false
   },
   "outputs": [
    {
     "data": {
      "text/html": [
       "<div>\n",
       "<style scoped>\n",
       "    .dataframe tbody tr th:only-of-type {\n",
       "        vertical-align: middle;\n",
       "    }\n",
       "\n",
       "    .dataframe tbody tr th {\n",
       "        vertical-align: top;\n",
       "    }\n",
       "\n",
       "    .dataframe thead th {\n",
       "        text-align: right;\n",
       "    }\n",
       "</style>\n",
       "<table border=\"1\" class=\"dataframe\">\n",
       "  <thead>\n",
       "    <tr style=\"text-align: right;\">\n",
       "      <th></th>\n",
       "      <th>id</th>\n",
       "      <th>imdb_id</th>\n",
       "      <th>popularity</th>\n",
       "      <th>budget</th>\n",
       "      <th>revenue</th>\n",
       "      <th>original_title</th>\n",
       "      <th>cast</th>\n",
       "      <th>homepage</th>\n",
       "      <th>director</th>\n",
       "      <th>tagline</th>\n",
       "      <th>...</th>\n",
       "      <th>overview</th>\n",
       "      <th>runtime</th>\n",
       "      <th>genres</th>\n",
       "      <th>production_companies</th>\n",
       "      <th>release_date</th>\n",
       "      <th>vote_count</th>\n",
       "      <th>vote_average</th>\n",
       "      <th>release_year</th>\n",
       "      <th>budget_adj</th>\n",
       "      <th>revenue_adj</th>\n",
       "    </tr>\n",
       "  </thead>\n",
       "  <tbody>\n",
       "    <tr>\n",
       "      <th>0</th>\n",
       "      <td>135397</td>\n",
       "      <td>tt0369610</td>\n",
       "      <td>32.985763</td>\n",
       "      <td>150000000</td>\n",
       "      <td>1513528810</td>\n",
       "      <td>Jurassic World</td>\n",
       "      <td>Chris Pratt|Bryce Dallas Howard|Irrfan Khan|Vi...</td>\n",
       "      <td>http://www.jurassicworld.com/</td>\n",
       "      <td>Colin Trevorrow</td>\n",
       "      <td>The park is open.</td>\n",
       "      <td>...</td>\n",
       "      <td>Twenty-two years after the events of Jurassic ...</td>\n",
       "      <td>124</td>\n",
       "      <td>Action|Adventure|Science Fiction|Thriller</td>\n",
       "      <td>Universal Studios|Amblin Entertainment|Legenda...</td>\n",
       "      <td>6/9/15</td>\n",
       "      <td>5562</td>\n",
       "      <td>6.5</td>\n",
       "      <td>2015</td>\n",
       "      <td>1.379999e+08</td>\n",
       "      <td>1.392446e+09</td>\n",
       "    </tr>\n",
       "    <tr>\n",
       "      <th>1</th>\n",
       "      <td>76341</td>\n",
       "      <td>tt1392190</td>\n",
       "      <td>28.419936</td>\n",
       "      <td>150000000</td>\n",
       "      <td>378436354</td>\n",
       "      <td>Mad Max: Fury Road</td>\n",
       "      <td>Tom Hardy|Charlize Theron|Hugh Keays-Byrne|Nic...</td>\n",
       "      <td>http://www.madmaxmovie.com/</td>\n",
       "      <td>George Miller</td>\n",
       "      <td>What a Lovely Day.</td>\n",
       "      <td>...</td>\n",
       "      <td>An apocalyptic story set in the furthest reach...</td>\n",
       "      <td>120</td>\n",
       "      <td>Action|Adventure|Science Fiction|Thriller</td>\n",
       "      <td>Village Roadshow Pictures|Kennedy Miller Produ...</td>\n",
       "      <td>5/13/15</td>\n",
       "      <td>6185</td>\n",
       "      <td>7.1</td>\n",
       "      <td>2015</td>\n",
       "      <td>1.379999e+08</td>\n",
       "      <td>3.481613e+08</td>\n",
       "    </tr>\n",
       "    <tr>\n",
       "      <th>2</th>\n",
       "      <td>262500</td>\n",
       "      <td>tt2908446</td>\n",
       "      <td>13.112507</td>\n",
       "      <td>110000000</td>\n",
       "      <td>295238201</td>\n",
       "      <td>Insurgent</td>\n",
       "      <td>Shailene Woodley|Theo James|Kate Winslet|Ansel...</td>\n",
       "      <td>http://www.thedivergentseries.movie/#insurgent</td>\n",
       "      <td>Robert Schwentke</td>\n",
       "      <td>One Choice Can Destroy You</td>\n",
       "      <td>...</td>\n",
       "      <td>Beatrice Prior must confront her inner demons ...</td>\n",
       "      <td>119</td>\n",
       "      <td>Adventure|Science Fiction|Thriller</td>\n",
       "      <td>Summit Entertainment|Mandeville Films|Red Wago...</td>\n",
       "      <td>3/18/15</td>\n",
       "      <td>2480</td>\n",
       "      <td>6.3</td>\n",
       "      <td>2015</td>\n",
       "      <td>1.012000e+08</td>\n",
       "      <td>2.716190e+08</td>\n",
       "    </tr>\n",
       "    <tr>\n",
       "      <th>3</th>\n",
       "      <td>140607</td>\n",
       "      <td>tt2488496</td>\n",
       "      <td>11.173104</td>\n",
       "      <td>200000000</td>\n",
       "      <td>2068178225</td>\n",
       "      <td>Star Wars: The Force Awakens</td>\n",
       "      <td>Harrison Ford|Mark Hamill|Carrie Fisher|Adam D...</td>\n",
       "      <td>http://www.starwars.com/films/star-wars-episod...</td>\n",
       "      <td>J.J. Abrams</td>\n",
       "      <td>Every generation has a story.</td>\n",
       "      <td>...</td>\n",
       "      <td>Thirty years after defeating the Galactic Empi...</td>\n",
       "      <td>136</td>\n",
       "      <td>Action|Adventure|Science Fiction|Fantasy</td>\n",
       "      <td>Lucasfilm|Truenorth Productions|Bad Robot</td>\n",
       "      <td>12/15/15</td>\n",
       "      <td>5292</td>\n",
       "      <td>7.5</td>\n",
       "      <td>2015</td>\n",
       "      <td>1.839999e+08</td>\n",
       "      <td>1.902723e+09</td>\n",
       "    </tr>\n",
       "    <tr>\n",
       "      <th>4</th>\n",
       "      <td>168259</td>\n",
       "      <td>tt2820852</td>\n",
       "      <td>9.335014</td>\n",
       "      <td>190000000</td>\n",
       "      <td>1506249360</td>\n",
       "      <td>Furious 7</td>\n",
       "      <td>Vin Diesel|Paul Walker|Jason Statham|Michelle ...</td>\n",
       "      <td>http://www.furious7.com/</td>\n",
       "      <td>James Wan</td>\n",
       "      <td>Vengeance Hits Home</td>\n",
       "      <td>...</td>\n",
       "      <td>Deckard Shaw seeks revenge against Dominic Tor...</td>\n",
       "      <td>137</td>\n",
       "      <td>Action|Crime|Thriller</td>\n",
       "      <td>Universal Pictures|Original Film|Media Rights ...</td>\n",
       "      <td>4/1/15</td>\n",
       "      <td>2947</td>\n",
       "      <td>7.3</td>\n",
       "      <td>2015</td>\n",
       "      <td>1.747999e+08</td>\n",
       "      <td>1.385749e+09</td>\n",
       "    </tr>\n",
       "  </tbody>\n",
       "</table>\n",
       "<p>5 rows × 21 columns</p>\n",
       "</div>"
      ],
      "text/plain": [
       "       id    imdb_id  popularity     budget     revenue  \\\n",
       "0  135397  tt0369610   32.985763  150000000  1513528810   \n",
       "1   76341  tt1392190   28.419936  150000000   378436354   \n",
       "2  262500  tt2908446   13.112507  110000000   295238201   \n",
       "3  140607  tt2488496   11.173104  200000000  2068178225   \n",
       "4  168259  tt2820852    9.335014  190000000  1506249360   \n",
       "\n",
       "                 original_title  \\\n",
       "0                Jurassic World   \n",
       "1            Mad Max: Fury Road   \n",
       "2                     Insurgent   \n",
       "3  Star Wars: The Force Awakens   \n",
       "4                     Furious 7   \n",
       "\n",
       "                                                cast  \\\n",
       "0  Chris Pratt|Bryce Dallas Howard|Irrfan Khan|Vi...   \n",
       "1  Tom Hardy|Charlize Theron|Hugh Keays-Byrne|Nic...   \n",
       "2  Shailene Woodley|Theo James|Kate Winslet|Ansel...   \n",
       "3  Harrison Ford|Mark Hamill|Carrie Fisher|Adam D...   \n",
       "4  Vin Diesel|Paul Walker|Jason Statham|Michelle ...   \n",
       "\n",
       "                                            homepage          director  \\\n",
       "0                      http://www.jurassicworld.com/   Colin Trevorrow   \n",
       "1                        http://www.madmaxmovie.com/     George Miller   \n",
       "2     http://www.thedivergentseries.movie/#insurgent  Robert Schwentke   \n",
       "3  http://www.starwars.com/films/star-wars-episod...       J.J. Abrams   \n",
       "4                           http://www.furious7.com/         James Wan   \n",
       "\n",
       "                         tagline      ...       \\\n",
       "0              The park is open.      ...        \n",
       "1             What a Lovely Day.      ...        \n",
       "2     One Choice Can Destroy You      ...        \n",
       "3  Every generation has a story.      ...        \n",
       "4            Vengeance Hits Home      ...        \n",
       "\n",
       "                                            overview runtime  \\\n",
       "0  Twenty-two years after the events of Jurassic ...     124   \n",
       "1  An apocalyptic story set in the furthest reach...     120   \n",
       "2  Beatrice Prior must confront her inner demons ...     119   \n",
       "3  Thirty years after defeating the Galactic Empi...     136   \n",
       "4  Deckard Shaw seeks revenge against Dominic Tor...     137   \n",
       "\n",
       "                                      genres  \\\n",
       "0  Action|Adventure|Science Fiction|Thriller   \n",
       "1  Action|Adventure|Science Fiction|Thriller   \n",
       "2         Adventure|Science Fiction|Thriller   \n",
       "3   Action|Adventure|Science Fiction|Fantasy   \n",
       "4                      Action|Crime|Thriller   \n",
       "\n",
       "                                production_companies release_date vote_count  \\\n",
       "0  Universal Studios|Amblin Entertainment|Legenda...       6/9/15       5562   \n",
       "1  Village Roadshow Pictures|Kennedy Miller Produ...      5/13/15       6185   \n",
       "2  Summit Entertainment|Mandeville Films|Red Wago...      3/18/15       2480   \n",
       "3          Lucasfilm|Truenorth Productions|Bad Robot     12/15/15       5292   \n",
       "4  Universal Pictures|Original Film|Media Rights ...       4/1/15       2947   \n",
       "\n",
       "   vote_average  release_year    budget_adj   revenue_adj  \n",
       "0           6.5          2015  1.379999e+08  1.392446e+09  \n",
       "1           7.1          2015  1.379999e+08  3.481613e+08  \n",
       "2           6.3          2015  1.012000e+08  2.716190e+08  \n",
       "3           7.5          2015  1.839999e+08  1.902723e+09  \n",
       "4           7.3          2015  1.747999e+08  1.385749e+09  \n",
       "\n",
       "[5 rows x 21 columns]"
      ]
     },
     "execution_count": 3,
     "metadata": {},
     "output_type": "execute_result"
    }
   ],
   "source": [
    "# Showing the data info\n",
    "df.head() "
   ]
  },
  {
   "cell_type": "markdown",
   "metadata": {},
   "source": [
    "I can confidently assume that columns ['id','imdb_id','homepage','tagline','overview','keywords'] are unnecessary for the popularity.\n",
    "\n",
    "I would ought to use budget_adj and revenue_adj instead of budget and revenue for the fairness of economic currency so budget and revenue columns will be dropped as well.\n",
    "\n",
    "Also, there are two time columns, release_year and release_data, but I need only release_year than the realse_data will be dropped as well."
   ]
  },
  {
   "cell_type": "code",
   "execution_count": 4,
   "metadata": {},
   "outputs": [
    {
     "data": {
      "text/plain": [
       "(10866, 21)"
      ]
     },
     "execution_count": 4,
     "metadata": {},
     "output_type": "execute_result"
    }
   ],
   "source": [
    "# Showing the data shape.\n",
    "df.shape"
   ]
  },
  {
   "cell_type": "markdown",
   "metadata": {},
   "source": [
    "This shape tells that there are 10866 rows and 21 columns in the data"
   ]
  },
  {
   "cell_type": "code",
   "execution_count": 5,
   "metadata": {},
   "outputs": [
    {
     "name": "stdout",
     "output_type": "stream",
     "text": [
      "<class 'pandas.core.frame.DataFrame'>\n",
      "RangeIndex: 10866 entries, 0 to 10865\n",
      "Data columns (total 21 columns):\n",
      "id                      10866 non-null int64\n",
      "imdb_id                 10856 non-null object\n",
      "popularity              10866 non-null float64\n",
      "budget                  10866 non-null int64\n",
      "revenue                 10866 non-null int64\n",
      "original_title          10866 non-null object\n",
      "cast                    10790 non-null object\n",
      "homepage                2936 non-null object\n",
      "director                10822 non-null object\n",
      "tagline                 8042 non-null object\n",
      "keywords                9373 non-null object\n",
      "overview                10862 non-null object\n",
      "runtime                 10866 non-null int64\n",
      "genres                  10843 non-null object\n",
      "production_companies    9836 non-null object\n",
      "release_date            10866 non-null object\n",
      "vote_count              10866 non-null int64\n",
      "vote_average            10866 non-null float64\n",
      "release_year            10866 non-null int64\n",
      "budget_adj              10866 non-null float64\n",
      "revenue_adj             10866 non-null float64\n",
      "dtypes: float64(4), int64(6), object(11)\n",
      "memory usage: 1.7+ MB\n"
     ]
    }
   ],
   "source": [
    "# Showing the data info.\n",
    "df.info()"
   ]
  },
  {
   "cell_type": "markdown",
   "metadata": {},
   "source": [
    "Above info reveals that there are quite columns with NA. I will investigate NA values again after the dropping the unncessary columns.\n",
    "\n",
    "It seems that 'id, imdb_id, homepage, tagline, overview, keywords' columns are not useful. \n",
    "\n",
    "Also, I think budget_adj and revenue_adj can replace budget and revenue so I will drop the latter two.\n",
    "\n",
    "Furthermore, there exist null-values in production_companies, cast, director, and genres, which are not numbers that can be filled with mean_values so will be dropped as well."
   ]
  },
  {
   "cell_type": "code",
   "execution_count": 6,
   "metadata": {},
   "outputs": [],
   "source": [
    "# Dropping the unncessary columns.\n",
    "df.drop(['id','imdb_id','homepage','tagline','overview','keywords','release_date', 'budget', 'revenue'], axis=1, inplace=True)"
   ]
  },
  {
   "cell_type": "code",
   "execution_count": 7,
   "metadata": {},
   "outputs": [
    {
     "name": "stdout",
     "output_type": "stream",
     "text": [
      "<class 'pandas.core.frame.DataFrame'>\n",
      "RangeIndex: 10866 entries, 0 to 10865\n",
      "Data columns (total 12 columns):\n",
      "popularity              10866 non-null float64\n",
      "original_title          10866 non-null object\n",
      "cast                    10790 non-null object\n",
      "director                10822 non-null object\n",
      "runtime                 10866 non-null int64\n",
      "genres                  10843 non-null object\n",
      "production_companies    9836 non-null object\n",
      "vote_count              10866 non-null int64\n",
      "vote_average            10866 non-null float64\n",
      "release_year            10866 non-null int64\n",
      "budget_adj              10866 non-null float64\n",
      "revenue_adj             10866 non-null float64\n",
      "dtypes: float64(4), int64(3), object(5)\n",
      "memory usage: 1018.8+ KB\n"
     ]
    }
   ],
   "source": [
    "# Showing the data info\n",
    "df.info()"
   ]
  },
  {
   "cell_type": "markdown",
   "metadata": {},
   "source": [
    "From 21 columns it became 12 columns as I dropped 9 columns. \n",
    "\n",
    "Perfect!\n",
    "\n",
    "Let's count on NA values. Among 10866 columns, cast has 10790 {NA:76}, director has 10822 {NA:44}, genres has 10843 {NA:23}, and production_companies has 9836 {NA:1030}. \n",
    "\n",
    "In here, all NA values are not in numerical form that I cannot fill the NA with mean values so I will just drop them."
   ]
  },
  {
   "cell_type": "code",
   "execution_count": 8,
   "metadata": {},
   "outputs": [],
   "source": [
    "# Dropping the NA values and their index in all data.\n",
    "df.dropna(inplace=True) "
   ]
  },
  {
   "cell_type": "code",
   "execution_count": 9,
   "metadata": {},
   "outputs": [
    {
     "name": "stdout",
     "output_type": "stream",
     "text": [
      "<class 'pandas.core.frame.DataFrame'>\n",
      "Int64Index: 9773 entries, 0 to 10865\n",
      "Data columns (total 12 columns):\n",
      "popularity              9773 non-null float64\n",
      "original_title          9773 non-null object\n",
      "cast                    9773 non-null object\n",
      "director                9773 non-null object\n",
      "runtime                 9773 non-null int64\n",
      "genres                  9773 non-null object\n",
      "production_companies    9773 non-null object\n",
      "vote_count              9773 non-null int64\n",
      "vote_average            9773 non-null float64\n",
      "release_year            9773 non-null int64\n",
      "budget_adj              9773 non-null float64\n",
      "revenue_adj             9773 non-null float64\n",
      "dtypes: float64(4), int64(3), object(5)\n",
      "memory usage: 992.6+ KB\n"
     ]
    }
   ],
   "source": [
    "# Shwoing the data info.\n",
    "df.info()"
   ]
  },
  {
   "cell_type": "markdown",
   "metadata": {},
   "source": [
    "Now, the data has from 10866 to 9773 rows and there is no NA values anymore.\n",
    "Let's check for the duplicate values."
   ]
  },
  {
   "cell_type": "code",
   "execution_count": 10,
   "metadata": {},
   "outputs": [
    {
     "data": {
      "text/plain": [
       "1"
      ]
     },
     "execution_count": 10,
     "metadata": {},
     "output_type": "execute_result"
    }
   ],
   "source": [
    "# Finding how many duplicate values are there in the data.\n",
    "df.duplicated().sum() "
   ]
  },
  {
   "cell_type": "code",
   "execution_count": 11,
   "metadata": {
    "scrolled": true
   },
   "outputs": [
    {
     "data": {
      "text/html": [
       "<div>\n",
       "<style scoped>\n",
       "    .dataframe tbody tr th:only-of-type {\n",
       "        vertical-align: middle;\n",
       "    }\n",
       "\n",
       "    .dataframe tbody tr th {\n",
       "        vertical-align: top;\n",
       "    }\n",
       "\n",
       "    .dataframe thead th {\n",
       "        text-align: right;\n",
       "    }\n",
       "</style>\n",
       "<table border=\"1\" class=\"dataframe\">\n",
       "  <thead>\n",
       "    <tr style=\"text-align: right;\">\n",
       "      <th></th>\n",
       "      <th>popularity</th>\n",
       "      <th>original_title</th>\n",
       "      <th>cast</th>\n",
       "      <th>director</th>\n",
       "      <th>runtime</th>\n",
       "      <th>genres</th>\n",
       "      <th>production_companies</th>\n",
       "      <th>vote_count</th>\n",
       "      <th>vote_average</th>\n",
       "      <th>release_year</th>\n",
       "      <th>budget_adj</th>\n",
       "      <th>revenue_adj</th>\n",
       "    </tr>\n",
       "  </thead>\n",
       "  <tbody>\n",
       "    <tr>\n",
       "      <th>2090</th>\n",
       "      <td>0.59643</td>\n",
       "      <td>TEKKEN</td>\n",
       "      <td>Jon Foo|Kelly Overton|Cary-Hiroyuki Tagawa|Ian...</td>\n",
       "      <td>Dwight H. Little</td>\n",
       "      <td>92</td>\n",
       "      <td>Crime|Drama|Action|Thriller|Science Fiction</td>\n",
       "      <td>Namco|Light Song Films</td>\n",
       "      <td>110</td>\n",
       "      <td>5.0</td>\n",
       "      <td>2010</td>\n",
       "      <td>30000000.0</td>\n",
       "      <td>967000.0</td>\n",
       "    </tr>\n",
       "  </tbody>\n",
       "</table>\n",
       "</div>"
      ],
      "text/plain": [
       "      popularity original_title  \\\n",
       "2090     0.59643         TEKKEN   \n",
       "\n",
       "                                                   cast          director  \\\n",
       "2090  Jon Foo|Kelly Overton|Cary-Hiroyuki Tagawa|Ian...  Dwight H. Little   \n",
       "\n",
       "      runtime                                       genres  \\\n",
       "2090       92  Crime|Drama|Action|Thriller|Science Fiction   \n",
       "\n",
       "        production_companies  vote_count  vote_average  release_year  \\\n",
       "2090  Namco|Light Song Films         110           5.0          2010   \n",
       "\n",
       "      budget_adj  revenue_adj  \n",
       "2090  30000000.0     967000.0  "
      ]
     },
     "execution_count": 11,
     "metadata": {},
     "output_type": "execute_result"
    }
   ],
   "source": [
    " # Finding which one is duplicated\n",
    "df[df.duplicated()==True]"
   ]
  },
  {
   "cell_type": "markdown",
   "metadata": {},
   "source": [
    "So there is only 1 duplicated movie, titled \"TEKKEN\". This shall be dropped."
   ]
  },
  {
   "cell_type": "code",
   "execution_count": 12,
   "metadata": {},
   "outputs": [],
   "source": [
    " # Dropping the duplicated value while keeping only unique one value left.\n",
    "df.drop_duplicates(inplace=True)"
   ]
  },
  {
   "cell_type": "code",
   "execution_count": 13,
   "metadata": {
    "scrolled": true
   },
   "outputs": [
    {
     "name": "stdout",
     "output_type": "stream",
     "text": [
      "<class 'pandas.core.frame.DataFrame'>\n",
      "Int64Index: 9772 entries, 0 to 10865\n",
      "Data columns (total 12 columns):\n",
      "popularity              9772 non-null float64\n",
      "original_title          9772 non-null object\n",
      "cast                    9772 non-null object\n",
      "director                9772 non-null object\n",
      "runtime                 9772 non-null int64\n",
      "genres                  9772 non-null object\n",
      "production_companies    9772 non-null object\n",
      "vote_count              9772 non-null int64\n",
      "vote_average            9772 non-null float64\n",
      "release_year            9772 non-null int64\n",
      "budget_adj              9772 non-null float64\n",
      "revenue_adj             9772 non-null float64\n",
      "dtypes: float64(4), int64(3), object(5)\n",
      "memory usage: 992.5+ KB\n"
     ]
    }
   ],
   "source": [
    "# Showing the data info\n",
    "df.info()"
   ]
  },
  {
   "cell_type": "markdown",
   "metadata": {},
   "source": [
    "From 9773 rows to 9772 rows, it is clear that the 1 duplicated Tekken is now dropped. This data is now very clean to execute the analysis.\n",
    "\n",
    "Yet, I personally would like to rename columns [budget_adj, revenue_adj] to [budget, revenue]. Let's rename them."
   ]
  },
  {
   "cell_type": "code",
   "execution_count": 14,
   "metadata": {},
   "outputs": [
    {
     "data": {
      "text/plain": [
       "True"
      ]
     },
     "execution_count": 14,
     "metadata": {},
     "output_type": "execute_result"
    }
   ],
   "source": [
    "# Renaming the budget and revenue columns\n",
    "\n",
    "df.rename({'budget_adj' : 'budget', 'revenue_adj' : 'revenue'}, axis = 'columns', inplace = True)\n",
    "\n",
    "# Checking whether the new names are in the columns.\n",
    "'budget' and 'revenue' in df.columns"
   ]
  },
  {
   "cell_type": "markdown",
   "metadata": {},
   "source": [
    "It is now clear that the renaming process is executetd with no problem.\n",
    "\n",
    "Next, I would like to create another dataframe called \"df_genre\" that contains only 3 columns : genres, release_year, and popularity.\n",
    "\n",
    "First, let us investigate about the column genres.\n"
   ]
  },
  {
   "cell_type": "code",
   "execution_count": 15,
   "metadata": {},
   "outputs": [
    {
     "data": {
      "text/html": [
       "<div>\n",
       "<style scoped>\n",
       "    .dataframe tbody tr th:only-of-type {\n",
       "        vertical-align: middle;\n",
       "    }\n",
       "\n",
       "    .dataframe tbody tr th {\n",
       "        vertical-align: top;\n",
       "    }\n",
       "\n",
       "    .dataframe thead th {\n",
       "        text-align: right;\n",
       "    }\n",
       "</style>\n",
       "<table border=\"1\" class=\"dataframe\">\n",
       "  <thead>\n",
       "    <tr style=\"text-align: right;\">\n",
       "      <th></th>\n",
       "      <th>popularity</th>\n",
       "      <th>release_year</th>\n",
       "      <th>genres</th>\n",
       "    </tr>\n",
       "  </thead>\n",
       "  <tbody>\n",
       "    <tr>\n",
       "      <th>0</th>\n",
       "      <td>32.985763</td>\n",
       "      <td>2015</td>\n",
       "      <td>Action|Adventure|Science Fiction|Thriller</td>\n",
       "    </tr>\n",
       "    <tr>\n",
       "      <th>1</th>\n",
       "      <td>28.419936</td>\n",
       "      <td>2015</td>\n",
       "      <td>Action|Adventure|Science Fiction|Thriller</td>\n",
       "    </tr>\n",
       "    <tr>\n",
       "      <th>2</th>\n",
       "      <td>13.112507</td>\n",
       "      <td>2015</td>\n",
       "      <td>Adventure|Science Fiction|Thriller</td>\n",
       "    </tr>\n",
       "    <tr>\n",
       "      <th>3</th>\n",
       "      <td>11.173104</td>\n",
       "      <td>2015</td>\n",
       "      <td>Action|Adventure|Science Fiction|Fantasy</td>\n",
       "    </tr>\n",
       "    <tr>\n",
       "      <th>4</th>\n",
       "      <td>9.335014</td>\n",
       "      <td>2015</td>\n",
       "      <td>Action|Crime|Thriller</td>\n",
       "    </tr>\n",
       "    <tr>\n",
       "      <th>5</th>\n",
       "      <td>9.110700</td>\n",
       "      <td>2015</td>\n",
       "      <td>Western|Drama|Adventure|Thriller</td>\n",
       "    </tr>\n",
       "    <tr>\n",
       "      <th>6</th>\n",
       "      <td>8.654359</td>\n",
       "      <td>2015</td>\n",
       "      <td>Science Fiction|Action|Thriller|Adventure</td>\n",
       "    </tr>\n",
       "    <tr>\n",
       "      <th>7</th>\n",
       "      <td>7.667400</td>\n",
       "      <td>2015</td>\n",
       "      <td>Drama|Adventure|Science Fiction</td>\n",
       "    </tr>\n",
       "    <tr>\n",
       "      <th>8</th>\n",
       "      <td>7.404165</td>\n",
       "      <td>2015</td>\n",
       "      <td>Family|Animation|Adventure|Comedy</td>\n",
       "    </tr>\n",
       "    <tr>\n",
       "      <th>9</th>\n",
       "      <td>6.326804</td>\n",
       "      <td>2015</td>\n",
       "      <td>Comedy|Animation|Family</td>\n",
       "    </tr>\n",
       "  </tbody>\n",
       "</table>\n",
       "</div>"
      ],
      "text/plain": [
       "   popularity  release_year                                     genres\n",
       "0   32.985763          2015  Action|Adventure|Science Fiction|Thriller\n",
       "1   28.419936          2015  Action|Adventure|Science Fiction|Thriller\n",
       "2   13.112507          2015         Adventure|Science Fiction|Thriller\n",
       "3   11.173104          2015   Action|Adventure|Science Fiction|Fantasy\n",
       "4    9.335014          2015                      Action|Crime|Thriller\n",
       "5    9.110700          2015           Western|Drama|Adventure|Thriller\n",
       "6    8.654359          2015  Science Fiction|Action|Thriller|Adventure\n",
       "7    7.667400          2015            Drama|Adventure|Science Fiction\n",
       "8    7.404165          2015          Family|Animation|Adventure|Comedy\n",
       "9    6.326804          2015                    Comedy|Animation|Family"
      ]
     },
     "execution_count": 15,
     "metadata": {},
     "output_type": "execute_result"
    }
   ],
   "source": [
    "# Creating another dataframe that consists of only the three columns\n",
    "df_genre = df.copy().filter(['popularity','release_year','genres']) \n",
    "\n",
    "# Showing the top 10 index of these dataframe.\n",
    "df_genre.head(10) "
   ]
  },
  {
   "cell_type": "markdown",
   "metadata": {},
   "source": [
    "The df_genre is executed successfully with the three columns. \n",
    "\n",
    "However, the genre value looks very messy because it is composed of multiple genres with seperation '|'. \n",
    "\n",
    "What I need is the genre column with one genre value, not multiple genres like this.\n",
    "\n",
    "The solution for this problem is creating an array filled with stacked '|' splitted values splitting '|' and joining that array back to the df_genre data.\n",
    "\n",
    "Furthermore, as there seems to be too many genre values, I will drop the \"averagely below 25% popularity genre\" from the df_genre."
   ]
  },
  {
   "cell_type": "code",
   "execution_count": 16,
   "metadata": {},
   "outputs": [
    {
     "data": {
      "text/plain": [
       "0  0             Action\n",
       "   1          Adventure\n",
       "   2    Science Fiction\n",
       "   3           Thriller\n",
       "1  0             Action\n",
       "   1          Adventure\n",
       "   2    Science Fiction\n",
       "   3           Thriller\n",
       "2  0          Adventure\n",
       "   1    Science Fiction\n",
       "   2           Thriller\n",
       "3  0             Action\n",
       "   1          Adventure\n",
       "   2    Science Fiction\n",
       "   3            Fantasy\n",
       "dtype: object"
      ]
     },
     "execution_count": 16,
     "metadata": {},
     "output_type": "execute_result"
    }
   ],
   "source": [
    "# Creating an array that is stacked of splitted genres \n",
    "new_array = df_genre['genres'].str.split('|').apply(pd.Series,1).stack()\n",
    "# Shows first 15 values.\n",
    "new_array.head(15)"
   ]
  },
  {
   "cell_type": "markdown",
   "metadata": {},
   "source": [
    "This new_array is stacked of the splitted genres and have two countings in its columns.\n",
    "\n",
    "The first counting shall be dropped because it disrupts putting it back to df_genre data."
   ]
  },
  {
   "cell_type": "code",
   "execution_count": 17,
   "metadata": {},
   "outputs": [
    {
     "data": {
      "text/plain": [
       "0             Action\n",
       "0          Adventure\n",
       "0    Science Fiction\n",
       "0           Thriller\n",
       "1             Action\n",
       "1          Adventure\n",
       "1    Science Fiction\n",
       "1           Thriller\n",
       "2          Adventure\n",
       "2    Science Fiction\n",
       "2           Thriller\n",
       "3             Action\n",
       "3          Adventure\n",
       "3    Science Fiction\n",
       "3            Fantasy\n",
       "dtype: object"
      ]
     },
     "execution_count": 17,
     "metadata": {},
     "output_type": "execute_result"
    }
   ],
   "source": [
    "# Dropping the first counting level.\n",
    "new_array.index = new_array.index.droplevel(-1)\n",
    "# Shows first 15 values.\n",
    "new_array.head(15)"
   ]
  },
  {
   "cell_type": "markdown",
   "metadata": {},
   "source": [
    "Now clearly, the first counting column is dropped. I will then name the genre column as 'genres'."
   ]
  },
  {
   "cell_type": "code",
   "execution_count": 18,
   "metadata": {
    "scrolled": true
   },
   "outputs": [
    {
     "data": {
      "text/plain": [
       "0             Action\n",
       "0          Adventure\n",
       "0    Science Fiction\n",
       "0           Thriller\n",
       "1             Action\n",
       "1          Adventure\n",
       "1    Science Fiction\n",
       "1           Thriller\n",
       "2          Adventure\n",
       "2    Science Fiction\n",
       "2           Thriller\n",
       "3             Action\n",
       "3          Adventure\n",
       "3    Science Fiction\n",
       "3            Fantasy\n",
       "Name: genres, dtype: object"
      ]
     },
     "execution_count": 18,
     "metadata": {},
     "output_type": "execute_result"
    }
   ],
   "source": [
    "# Naming the column as 'genres'\n",
    "new_array.name = 'genres'\n",
    "new_array.head(15)"
   ]
  },
  {
   "cell_type": "markdown",
   "metadata": {},
   "source": [
    "The above code is perfectly executed and now the array got a name, 'genres'.\n",
    "\n",
    "Next thing is to delete the genre column in df_gen to create space for joinning this new array into the df_gen."
   ]
  },
  {
   "cell_type": "code",
   "execution_count": 19,
   "metadata": {},
   "outputs": [
    {
     "data": {
      "text/html": [
       "<div>\n",
       "<style scoped>\n",
       "    .dataframe tbody tr th:only-of-type {\n",
       "        vertical-align: middle;\n",
       "    }\n",
       "\n",
       "    .dataframe tbody tr th {\n",
       "        vertical-align: top;\n",
       "    }\n",
       "\n",
       "    .dataframe thead th {\n",
       "        text-align: right;\n",
       "    }\n",
       "</style>\n",
       "<table border=\"1\" class=\"dataframe\">\n",
       "  <thead>\n",
       "    <tr style=\"text-align: right;\">\n",
       "      <th></th>\n",
       "      <th>popularity</th>\n",
       "      <th>release_year</th>\n",
       "    </tr>\n",
       "  </thead>\n",
       "  <tbody>\n",
       "    <tr>\n",
       "      <th>0</th>\n",
       "      <td>32.985763</td>\n",
       "      <td>2015</td>\n",
       "    </tr>\n",
       "    <tr>\n",
       "      <th>1</th>\n",
       "      <td>28.419936</td>\n",
       "      <td>2015</td>\n",
       "    </tr>\n",
       "    <tr>\n",
       "      <th>2</th>\n",
       "      <td>13.112507</td>\n",
       "      <td>2015</td>\n",
       "    </tr>\n",
       "    <tr>\n",
       "      <th>3</th>\n",
       "      <td>11.173104</td>\n",
       "      <td>2015</td>\n",
       "    </tr>\n",
       "    <tr>\n",
       "      <th>4</th>\n",
       "      <td>9.335014</td>\n",
       "      <td>2015</td>\n",
       "    </tr>\n",
       "    <tr>\n",
       "      <th>5</th>\n",
       "      <td>9.110700</td>\n",
       "      <td>2015</td>\n",
       "    </tr>\n",
       "    <tr>\n",
       "      <th>6</th>\n",
       "      <td>8.654359</td>\n",
       "      <td>2015</td>\n",
       "    </tr>\n",
       "    <tr>\n",
       "      <th>7</th>\n",
       "      <td>7.667400</td>\n",
       "      <td>2015</td>\n",
       "    </tr>\n",
       "    <tr>\n",
       "      <th>8</th>\n",
       "      <td>7.404165</td>\n",
       "      <td>2015</td>\n",
       "    </tr>\n",
       "    <tr>\n",
       "      <th>9</th>\n",
       "      <td>6.326804</td>\n",
       "      <td>2015</td>\n",
       "    </tr>\n",
       "  </tbody>\n",
       "</table>\n",
       "</div>"
      ],
      "text/plain": [
       "   popularity  release_year\n",
       "0   32.985763          2015\n",
       "1   28.419936          2015\n",
       "2   13.112507          2015\n",
       "3   11.173104          2015\n",
       "4    9.335014          2015\n",
       "5    9.110700          2015\n",
       "6    8.654359          2015\n",
       "7    7.667400          2015\n",
       "8    7.404165          2015\n",
       "9    6.326804          2015"
      ]
     },
     "execution_count": 19,
     "metadata": {},
     "output_type": "execute_result"
    }
   ],
   "source": [
    "# Deleting the genre column in df_genre\n",
    "del(df_genre['genres'])\n",
    "df_genre.head(10)"
   ]
  },
  {
   "cell_type": "markdown",
   "metadata": {},
   "source": [
    "The genre column is dropped well. I will join the new array now."
   ]
  },
  {
   "cell_type": "code",
   "execution_count": 20,
   "metadata": {
    "scrolled": true
   },
   "outputs": [
    {
     "data": {
      "text/html": [
       "<div>\n",
       "<style scoped>\n",
       "    .dataframe tbody tr th:only-of-type {\n",
       "        vertical-align: middle;\n",
       "    }\n",
       "\n",
       "    .dataframe tbody tr th {\n",
       "        vertical-align: top;\n",
       "    }\n",
       "\n",
       "    .dataframe thead th {\n",
       "        text-align: right;\n",
       "    }\n",
       "</style>\n",
       "<table border=\"1\" class=\"dataframe\">\n",
       "  <thead>\n",
       "    <tr style=\"text-align: right;\">\n",
       "      <th></th>\n",
       "      <th>popularity</th>\n",
       "      <th>release_year</th>\n",
       "      <th>genres</th>\n",
       "    </tr>\n",
       "  </thead>\n",
       "  <tbody>\n",
       "    <tr>\n",
       "      <th>0</th>\n",
       "      <td>32.985763</td>\n",
       "      <td>2015</td>\n",
       "      <td>Action</td>\n",
       "    </tr>\n",
       "    <tr>\n",
       "      <th>0</th>\n",
       "      <td>32.985763</td>\n",
       "      <td>2015</td>\n",
       "      <td>Adventure</td>\n",
       "    </tr>\n",
       "    <tr>\n",
       "      <th>0</th>\n",
       "      <td>32.985763</td>\n",
       "      <td>2015</td>\n",
       "      <td>Science Fiction</td>\n",
       "    </tr>\n",
       "    <tr>\n",
       "      <th>0</th>\n",
       "      <td>32.985763</td>\n",
       "      <td>2015</td>\n",
       "      <td>Thriller</td>\n",
       "    </tr>\n",
       "    <tr>\n",
       "      <th>1</th>\n",
       "      <td>28.419936</td>\n",
       "      <td>2015</td>\n",
       "      <td>Action</td>\n",
       "    </tr>\n",
       "    <tr>\n",
       "      <th>1</th>\n",
       "      <td>28.419936</td>\n",
       "      <td>2015</td>\n",
       "      <td>Adventure</td>\n",
       "    </tr>\n",
       "    <tr>\n",
       "      <th>1</th>\n",
       "      <td>28.419936</td>\n",
       "      <td>2015</td>\n",
       "      <td>Science Fiction</td>\n",
       "    </tr>\n",
       "    <tr>\n",
       "      <th>1</th>\n",
       "      <td>28.419936</td>\n",
       "      <td>2015</td>\n",
       "      <td>Thriller</td>\n",
       "    </tr>\n",
       "    <tr>\n",
       "      <th>2</th>\n",
       "      <td>13.112507</td>\n",
       "      <td>2015</td>\n",
       "      <td>Adventure</td>\n",
       "    </tr>\n",
       "    <tr>\n",
       "      <th>2</th>\n",
       "      <td>13.112507</td>\n",
       "      <td>2015</td>\n",
       "      <td>Science Fiction</td>\n",
       "    </tr>\n",
       "    <tr>\n",
       "      <th>2</th>\n",
       "      <td>13.112507</td>\n",
       "      <td>2015</td>\n",
       "      <td>Thriller</td>\n",
       "    </tr>\n",
       "    <tr>\n",
       "      <th>3</th>\n",
       "      <td>11.173104</td>\n",
       "      <td>2015</td>\n",
       "      <td>Action</td>\n",
       "    </tr>\n",
       "    <tr>\n",
       "      <th>3</th>\n",
       "      <td>11.173104</td>\n",
       "      <td>2015</td>\n",
       "      <td>Adventure</td>\n",
       "    </tr>\n",
       "    <tr>\n",
       "      <th>3</th>\n",
       "      <td>11.173104</td>\n",
       "      <td>2015</td>\n",
       "      <td>Science Fiction</td>\n",
       "    </tr>\n",
       "    <tr>\n",
       "      <th>3</th>\n",
       "      <td>11.173104</td>\n",
       "      <td>2015</td>\n",
       "      <td>Fantasy</td>\n",
       "    </tr>\n",
       "  </tbody>\n",
       "</table>\n",
       "</div>"
      ],
      "text/plain": [
       "   popularity  release_year           genres\n",
       "0   32.985763          2015           Action\n",
       "0   32.985763          2015        Adventure\n",
       "0   32.985763          2015  Science Fiction\n",
       "0   32.985763          2015         Thriller\n",
       "1   28.419936          2015           Action\n",
       "1   28.419936          2015        Adventure\n",
       "1   28.419936          2015  Science Fiction\n",
       "1   28.419936          2015         Thriller\n",
       "2   13.112507          2015        Adventure\n",
       "2   13.112507          2015  Science Fiction\n",
       "2   13.112507          2015         Thriller\n",
       "3   11.173104          2015           Action\n",
       "3   11.173104          2015        Adventure\n",
       "3   11.173104          2015  Science Fiction\n",
       "3   11.173104          2015          Fantasy"
      ]
     },
     "execution_count": 20,
     "metadata": {},
     "output_type": "execute_result"
    }
   ],
   "source": [
    "# Joining the array into the df_genre\n",
    "df_genre = df_genre.join(new_array)\n",
    "df_genre.head(15)"
   ]
  },
  {
   "cell_type": "markdown",
   "metadata": {},
   "source": [
    "Well done! the modified df_genre data now has only one genre value in each genre column cell while keeping the popularity and release_year. \n",
    "\n",
    "So far so good!\n",
    "\n",
    "What's next is to drop \"averagely below 25% popularity genre\". Let's see how many unique genres are there. "
   ]
  },
  {
   "cell_type": "code",
   "execution_count": 21,
   "metadata": {},
   "outputs": [
    {
     "data": {
      "text/plain": [
       "20"
      ]
     },
     "execution_count": 21,
     "metadata": {},
     "output_type": "execute_result"
    }
   ],
   "source": [
    "# Counts of unique genres\n",
    "len(df_genre.genres.unique())"
   ]
  },
  {
   "cell_type": "markdown",
   "metadata": {},
   "source": [
    "So there are 20 genres, which means 25% of them, or 5 genres, should be dropped.\n",
    "\n",
    "Let's investigate which genres are not popular. In order to do this, I will groupby the data by the genres, get their average, and sort the popularity in descending order to easily check for last 5 least popular genres. "
   ]
  },
  {
   "cell_type": "code",
   "execution_count": 22,
   "metadata": {
    "scrolled": false
   },
   "outputs": [
    {
     "data": {
      "text/html": [
       "<div>\n",
       "<style scoped>\n",
       "    .dataframe tbody tr th:only-of-type {\n",
       "        vertical-align: middle;\n",
       "    }\n",
       "\n",
       "    .dataframe tbody tr th {\n",
       "        vertical-align: top;\n",
       "    }\n",
       "\n",
       "    .dataframe thead th {\n",
       "        text-align: right;\n",
       "    }\n",
       "</style>\n",
       "<table border=\"1\" class=\"dataframe\">\n",
       "  <thead>\n",
       "    <tr style=\"text-align: right;\">\n",
       "      <th></th>\n",
       "      <th>popularity</th>\n",
       "      <th>release_year</th>\n",
       "    </tr>\n",
       "    <tr>\n",
       "      <th>genres</th>\n",
       "      <th></th>\n",
       "      <th></th>\n",
       "    </tr>\n",
       "  </thead>\n",
       "  <tbody>\n",
       "    <tr>\n",
       "      <th>Adventure</th>\n",
       "      <td>1.209053</td>\n",
       "      <td>1999.216040</td>\n",
       "    </tr>\n",
       "    <tr>\n",
       "      <th>Science Fiction</th>\n",
       "      <td>1.065278</td>\n",
       "      <td>1999.738556</td>\n",
       "    </tr>\n",
       "    <tr>\n",
       "      <th>Fantasy</th>\n",
       "      <td>1.056310</td>\n",
       "      <td>2000.189286</td>\n",
       "    </tr>\n",
       "    <tr>\n",
       "      <th>Action</th>\n",
       "      <td>0.968256</td>\n",
       "      <td>1999.875168</td>\n",
       "    </tr>\n",
       "    <tr>\n",
       "      <th>Animation</th>\n",
       "      <td>0.914281</td>\n",
       "      <td>2004.136143</td>\n",
       "    </tr>\n",
       "    <tr>\n",
       "      <th>Family</th>\n",
       "      <td>0.846467</td>\n",
       "      <td>2000.562557</td>\n",
       "    </tr>\n",
       "    <tr>\n",
       "      <th>Thriller</th>\n",
       "      <td>0.772172</td>\n",
       "      <td>2001.442826</td>\n",
       "    </tr>\n",
       "    <tr>\n",
       "      <th>Crime</th>\n",
       "      <td>0.767337</td>\n",
       "      <td>1999.237105</td>\n",
       "    </tr>\n",
       "    <tr>\n",
       "      <th>War</th>\n",
       "      <td>0.752777</td>\n",
       "      <td>1995.868217</td>\n",
       "    </tr>\n",
       "    <tr>\n",
       "      <th>Mystery</th>\n",
       "      <td>0.713596</td>\n",
       "      <td>1999.534282</td>\n",
       "    </tr>\n",
       "    <tr>\n",
       "      <th>Comedy</th>\n",
       "      <td>0.631565</td>\n",
       "      <td>2000.443635</td>\n",
       "    </tr>\n",
       "    <tr>\n",
       "      <th>Romance</th>\n",
       "      <td>0.627178</td>\n",
       "      <td>1999.914650</td>\n",
       "    </tr>\n",
       "    <tr>\n",
       "      <th>Drama</th>\n",
       "      <td>0.625878</td>\n",
       "      <td>2000.526123</td>\n",
       "    </tr>\n",
       "    <tr>\n",
       "      <th>History</th>\n",
       "      <td>0.609500</td>\n",
       "      <td>1997.009804</td>\n",
       "    </tr>\n",
       "    <tr>\n",
       "      <th>Western</th>\n",
       "      <td>0.604554</td>\n",
       "      <td>1986.475000</td>\n",
       "    </tr>\n",
       "    <tr>\n",
       "      <th>Music</th>\n",
       "      <td>0.550884</td>\n",
       "      <td>1999.300885</td>\n",
       "    </tr>\n",
       "    <tr>\n",
       "      <th>Horror</th>\n",
       "      <td>0.480207</td>\n",
       "      <td>2000.742464</td>\n",
       "    </tr>\n",
       "    <tr>\n",
       "      <th>TV Movie</th>\n",
       "      <td>0.295864</td>\n",
       "      <td>2003.840909</td>\n",
       "    </tr>\n",
       "    <tr>\n",
       "      <th>Documentary</th>\n",
       "      <td>0.217167</td>\n",
       "      <td>2008.097792</td>\n",
       "    </tr>\n",
       "    <tr>\n",
       "      <th>Foreign</th>\n",
       "      <td>0.209384</td>\n",
       "      <td>1999.891667</td>\n",
       "    </tr>\n",
       "  </tbody>\n",
       "</table>\n",
       "</div>"
      ],
      "text/plain": [
       "                 popularity  release_year\n",
       "genres                                   \n",
       "Adventure          1.209053   1999.216040\n",
       "Science Fiction    1.065278   1999.738556\n",
       "Fantasy            1.056310   2000.189286\n",
       "Action             0.968256   1999.875168\n",
       "Animation          0.914281   2004.136143\n",
       "Family             0.846467   2000.562557\n",
       "Thriller           0.772172   2001.442826\n",
       "Crime              0.767337   1999.237105\n",
       "War                0.752777   1995.868217\n",
       "Mystery            0.713596   1999.534282\n",
       "Comedy             0.631565   2000.443635\n",
       "Romance            0.627178   1999.914650\n",
       "Drama              0.625878   2000.526123\n",
       "History            0.609500   1997.009804\n",
       "Western            0.604554   1986.475000\n",
       "Music              0.550884   1999.300885\n",
       "Horror             0.480207   2000.742464\n",
       "TV Movie           0.295864   2003.840909\n",
       "Documentary        0.217167   2008.097792\n",
       "Foreign            0.209384   1999.891667"
      ]
     },
     "execution_count": 22,
     "metadata": {},
     "output_type": "execute_result"
    }
   ],
   "source": [
    "# Grouping the data with genres, getting the mean value, and sorting thhe popularity in descending order.\n",
    "df_genre.groupby(['genres']).mean().sort_values(by=['popularity'], ascending=False)"
   ]
  },
  {
   "cell_type": "markdown",
   "metadata": {},
   "source": [
    "Now we see that the least popular genres are the last 5 genres : 'Foreign', 'Documentary', 'TV Movie', 'Horror', and 'Music'.\n",
    "\n",
    "I honestly believe these make sense because these genres are my least favorite movie genres as well.\n",
    "\n",
    "Anyways, let's drop those unpopular 5 genres. I will create a function called \"df_drop\", which drops the genres, to avoid repetition."
   ]
  },
  {
   "cell_type": "code",
   "execution_count": 23,
   "metadata": {},
   "outputs": [
    {
     "data": {
      "text/plain": [
       "[array(['Action', 'Adventure', 'Science Fiction', 'Thriller', 'Fantasy',\n",
       "        'Crime', 'Western', 'Drama', 'Family', 'Animation', 'Comedy',\n",
       "        'Mystery', 'Romance', 'War', 'History'], dtype=object), 15]"
      ]
     },
     "execution_count": 23,
     "metadata": {},
     "output_type": "execute_result"
    }
   ],
   "source": [
    "# Creating df_drop function that drops the genres when executed.\n",
    "def df_drop(x) :\n",
    "    index = df_genre[df_genre.genres == x].index\n",
    "    df_genre.drop(index, inplace=True)\n",
    "# Dropping 'Foreign'\n",
    "df_drop('Foreign')\n",
    "# Dropping 'Documentary'\n",
    "df_drop('Documentary')\n",
    "# Dropping 'TV Movie'\n",
    "df_drop('TV Movie')\n",
    "# Dropping 'Horror'\n",
    "df_drop('Horror')\n",
    "# Dropping 'Music'\n",
    "df_drop('Music')\n",
    "\n",
    "# Showing the results : the list of remaining genres, and counting of remaining genres.\n",
    "[df_genre.genres.unique(), len(df_genre.genres.unique())]"
   ]
  },
  {
   "cell_type": "code",
   "execution_count": 24,
   "metadata": {},
   "outputs": [
    {
     "data": {
      "text/html": [
       "<div>\n",
       "<style scoped>\n",
       "    .dataframe tbody tr th:only-of-type {\n",
       "        vertical-align: middle;\n",
       "    }\n",
       "\n",
       "    .dataframe tbody tr th {\n",
       "        vertical-align: top;\n",
       "    }\n",
       "\n",
       "    .dataframe thead th {\n",
       "        text-align: right;\n",
       "    }\n",
       "</style>\n",
       "<table border=\"1\" class=\"dataframe\">\n",
       "  <thead>\n",
       "    <tr style=\"text-align: right;\">\n",
       "      <th></th>\n",
       "      <th>popularity</th>\n",
       "      <th>release_year</th>\n",
       "      <th>genres</th>\n",
       "    </tr>\n",
       "  </thead>\n",
       "  <tbody>\n",
       "    <tr>\n",
       "      <th>0</th>\n",
       "      <td>32.985763</td>\n",
       "      <td>2015</td>\n",
       "      <td>Action</td>\n",
       "    </tr>\n",
       "    <tr>\n",
       "      <th>0</th>\n",
       "      <td>32.985763</td>\n",
       "      <td>2015</td>\n",
       "      <td>Adventure</td>\n",
       "    </tr>\n",
       "    <tr>\n",
       "      <th>0</th>\n",
       "      <td>32.985763</td>\n",
       "      <td>2015</td>\n",
       "      <td>Science Fiction</td>\n",
       "    </tr>\n",
       "    <tr>\n",
       "      <th>0</th>\n",
       "      <td>32.985763</td>\n",
       "      <td>2015</td>\n",
       "      <td>Thriller</td>\n",
       "    </tr>\n",
       "    <tr>\n",
       "      <th>1</th>\n",
       "      <td>28.419936</td>\n",
       "      <td>2015</td>\n",
       "      <td>Action</td>\n",
       "    </tr>\n",
       "    <tr>\n",
       "      <th>1</th>\n",
       "      <td>28.419936</td>\n",
       "      <td>2015</td>\n",
       "      <td>Adventure</td>\n",
       "    </tr>\n",
       "    <tr>\n",
       "      <th>1</th>\n",
       "      <td>28.419936</td>\n",
       "      <td>2015</td>\n",
       "      <td>Science Fiction</td>\n",
       "    </tr>\n",
       "    <tr>\n",
       "      <th>1</th>\n",
       "      <td>28.419936</td>\n",
       "      <td>2015</td>\n",
       "      <td>Thriller</td>\n",
       "    </tr>\n",
       "    <tr>\n",
       "      <th>2</th>\n",
       "      <td>13.112507</td>\n",
       "      <td>2015</td>\n",
       "      <td>Adventure</td>\n",
       "    </tr>\n",
       "    <tr>\n",
       "      <th>2</th>\n",
       "      <td>13.112507</td>\n",
       "      <td>2015</td>\n",
       "      <td>Science Fiction</td>\n",
       "    </tr>\n",
       "    <tr>\n",
       "      <th>2</th>\n",
       "      <td>13.112507</td>\n",
       "      <td>2015</td>\n",
       "      <td>Thriller</td>\n",
       "    </tr>\n",
       "    <tr>\n",
       "      <th>3</th>\n",
       "      <td>11.173104</td>\n",
       "      <td>2015</td>\n",
       "      <td>Action</td>\n",
       "    </tr>\n",
       "    <tr>\n",
       "      <th>3</th>\n",
       "      <td>11.173104</td>\n",
       "      <td>2015</td>\n",
       "      <td>Adventure</td>\n",
       "    </tr>\n",
       "    <tr>\n",
       "      <th>3</th>\n",
       "      <td>11.173104</td>\n",
       "      <td>2015</td>\n",
       "      <td>Science Fiction</td>\n",
       "    </tr>\n",
       "    <tr>\n",
       "      <th>3</th>\n",
       "      <td>11.173104</td>\n",
       "      <td>2015</td>\n",
       "      <td>Fantasy</td>\n",
       "    </tr>\n",
       "    <tr>\n",
       "      <th>4</th>\n",
       "      <td>9.335014</td>\n",
       "      <td>2015</td>\n",
       "      <td>Action</td>\n",
       "    </tr>\n",
       "    <tr>\n",
       "      <th>4</th>\n",
       "      <td>9.335014</td>\n",
       "      <td>2015</td>\n",
       "      <td>Crime</td>\n",
       "    </tr>\n",
       "    <tr>\n",
       "      <th>4</th>\n",
       "      <td>9.335014</td>\n",
       "      <td>2015</td>\n",
       "      <td>Thriller</td>\n",
       "    </tr>\n",
       "    <tr>\n",
       "      <th>5</th>\n",
       "      <td>9.110700</td>\n",
       "      <td>2015</td>\n",
       "      <td>Western</td>\n",
       "    </tr>\n",
       "    <tr>\n",
       "      <th>5</th>\n",
       "      <td>9.110700</td>\n",
       "      <td>2015</td>\n",
       "      <td>Drama</td>\n",
       "    </tr>\n",
       "  </tbody>\n",
       "</table>\n",
       "</div>"
      ],
      "text/plain": [
       "   popularity  release_year           genres\n",
       "0   32.985763          2015           Action\n",
       "0   32.985763          2015        Adventure\n",
       "0   32.985763          2015  Science Fiction\n",
       "0   32.985763          2015         Thriller\n",
       "1   28.419936          2015           Action\n",
       "1   28.419936          2015        Adventure\n",
       "1   28.419936          2015  Science Fiction\n",
       "1   28.419936          2015         Thriller\n",
       "2   13.112507          2015        Adventure\n",
       "2   13.112507          2015  Science Fiction\n",
       "2   13.112507          2015         Thriller\n",
       "3   11.173104          2015           Action\n",
       "3   11.173104          2015        Adventure\n",
       "3   11.173104          2015  Science Fiction\n",
       "3   11.173104          2015          Fantasy\n",
       "4    9.335014          2015           Action\n",
       "4    9.335014          2015            Crime\n",
       "4    9.335014          2015         Thriller\n",
       "5    9.110700          2015          Western\n",
       "5    9.110700          2015            Drama"
      ]
     },
     "execution_count": 24,
     "metadata": {},
     "output_type": "execute_result"
    }
   ],
   "source": [
    "# Shwoing top 20 order samples of the result df_genre\n",
    "df_genre.head(20)"
   ]
  },
  {
   "cell_type": "markdown",
   "metadata": {},
   "source": [
    "Perfectly done! The are no more the 5 genres and the length changed from 20 to 15.\n",
    "\n",
    "So far, I have cleansed original \"df\" file by dropping seemingly unncessary columns, NA values, and duplicated values. \n",
    "I have also created new dataframe called \"df_gen\" that has single genre in each rows with no troubles in index.\n",
    "\n",
    "I am now done with the Data Wrangling by here."
   ]
  },
  {
   "cell_type": "markdown",
   "metadata": {},
   "source": [
    "<a id='eda'></a>\n",
    "## Exploratory Data Analysis\n",
    "\n",
    "\n",
    "### Research Question 1 : What factors in movies are related to their popularity ?\n",
    "\n",
    ">Really, what factors are related?\n",
    "\n",
    ">In this question, I will investigate numerical values such as budget_adj, runtime, and votes, and see whether these values are averagely proportional to popularity through plotting.\n",
    "\n",
    ">Yet, if the plotting seems not to give clear answer, I will compare and contrast the popularity with interquartile range of the other value by dividing them into 4 labels and will investigate proportionality in average. "
   ]
  },
  {
   "cell_type": "markdown",
   "metadata": {},
   "source": [
    "Do more budget means more popularity in movies?\n",
    "\n",
    "In common sense, today's system follows capitalism so perhaps it may be correct.\n",
    "\n",
    "First of all, I will investigate on relationship of budget and popularity. \n",
    "\n",
    "Let's first see the plotting by itself only."
   ]
  },
  {
   "cell_type": "code",
   "execution_count": 25,
   "metadata": {
    "scrolled": true
   },
   "outputs": [
    {
     "data": {
      "image/png": "[encoded data removed]",
      "text/plain": [
       "<matplotlib.figure.Figure at 0x7ff48d17f160>"
      ]
     },
     "metadata": {
      "needs_background": "light"
     },
     "output_type": "display_data"
    }
   ],
   "source": [
    "# Plotting the budget by itself\n",
    "\n",
    "plt.hist(df['budget'])\n",
    "plt.xlabel('Budget')\n",
    "plt.ylabel('Movie countings')\n",
    "plt.show();"
   ]
  },
  {
   "cell_type": "markdown",
   "metadata": {},
   "source": [
    "The above budget plot portrays extreme right-skewed distribution. The mode seems to exist at xlabel 0 to 0.5 and mean seems to exist somewhere near xlabel 0.5 to 0.6. \n",
    "\n",
    "This can be interpreted that most movies do not require budget more than $0.5e8.\n",
    "\n",
    "Let us now investigate the relationship between popularity and budget."
   ]
  },
  {
   "cell_type": "code",
   "execution_count": 26,
   "metadata": {},
   "outputs": [
    {
     "data": {
      "image/png": "[encoded data removed]",
      "text/plain": [
       "<matplotlib.figure.Figure at 0x7ff48d17f8d0>"
      ]
     },
     "metadata": {
      "needs_background": "light"
     },
     "output_type": "display_data"
    }
   ],
   "source": [
    "# Scatter Plotting relationship between budget and popularity\n",
    "\n",
    "df.plot(x=\"budget\", y=\"popularity\", kind=\"scatter\");"
   ]
  },
  {
   "cell_type": "markdown",
   "metadata": {},
   "source": [
    "From the above plot, it is clear that there exists huge outlier with most budget but perhaps near to least popularity. \n",
    "\n",
    "Besides the outlier, I can claim that the popularity is little proportional to budget but it is hard to prove the claim as the plot is poorly distributed.\n",
    "\n",
    "Therefore I decided to use interqurtile range as the plot's labels. Before getting the interquartile range, I will create a \"df\" data copy called \"df_1\" that contains only budget and popularity and will use this for the budget analysis."
   ]
  },
  {
   "cell_type": "code",
   "execution_count": 27,
   "metadata": {},
   "outputs": [
    {
     "data": {
      "text/plain": [
       "[0.0, 0.0, 306134.21438059653, 24642679.688743703, 425000000.0]"
      ]
     },
     "execution_count": 27,
     "metadata": {},
     "output_type": "execute_result"
    }
   ],
   "source": [
    "# Created new copy of df with filtering unnecessary data besides budget and popularity\n",
    "df_1 = df.copy().filter(items = ['popularity', 'budget'])\n",
    "\n",
    "# Getting the interquartile range : 0%, 25%, 50%, 75%, 100% respectively\n",
    "intr_qrt = list(df_1.describe().budget[3:9])\n",
    "intr_qrt"
   ]
  },
  {
   "cell_type": "markdown",
   "metadata": {},
   "source": [
    "The interquartile is executed but there is one weird thing here : THERE ARE TWO ZEROES!\n",
    "\n",
    "This shows that 0% and 25% were all 0, a result of extreme right-skewed distribution. Yet, in order to avoid conflict in plotting later, I will set the 25% to be 1."
   ]
  },
  {
   "cell_type": "code",
   "execution_count": 28,
   "metadata": {},
   "outputs": [
    {
     "data": {
      "text/plain": [
       "[0.0, 1, 306134.21438059653, 24642679.688743703, 425000000.0]"
      ]
     },
     "execution_count": 28,
     "metadata": {},
     "output_type": "execute_result"
    }
   ],
   "source": [
    "intr_qrt[1] = 1\n",
    "intr_qrt"
   ]
  },
  {
   "cell_type": "markdown",
   "metadata": {},
   "source": [
    "The interquartile range is expectedly set.\n",
    "\n",
    "Next, I will create labels that is categorized by 4 levels : \n",
    "Lv1 = [0% to 25%]\n",
    "\n",
    "Lv2 = [25% to 50%]\n",
    "\n",
    "Lv3 = [50% to 75%]\n",
    "\n",
    "Lv4 = [75% to 100%]\n",
    "\n",
    "And will add new column called 'budget_level' that classifies the rows with the edges.\n"
   ]
  },
  {
   "cell_type": "code",
   "execution_count": 29,
   "metadata": {},
   "outputs": [
    {
     "data": {
      "text/html": [
       "<div>\n",
       "<style scoped>\n",
       "    .dataframe tbody tr th:only-of-type {\n",
       "        vertical-align: middle;\n",
       "    }\n",
       "\n",
       "    .dataframe tbody tr th {\n",
       "        vertical-align: top;\n",
       "    }\n",
       "\n",
       "    .dataframe thead th {\n",
       "        text-align: right;\n",
       "    }\n",
       "</style>\n",
       "<table border=\"1\" class=\"dataframe\">\n",
       "  <thead>\n",
       "    <tr style=\"text-align: right;\">\n",
       "      <th></th>\n",
       "      <th>popularity</th>\n",
       "      <th>budget</th>\n",
       "      <th>budget_level</th>\n",
       "    </tr>\n",
       "  </thead>\n",
       "  <tbody>\n",
       "    <tr>\n",
       "      <th>0</th>\n",
       "      <td>32.985763</td>\n",
       "      <td>1.379999e+08</td>\n",
       "      <td>Lv4</td>\n",
       "    </tr>\n",
       "    <tr>\n",
       "      <th>1</th>\n",
       "      <td>28.419936</td>\n",
       "      <td>1.379999e+08</td>\n",
       "      <td>Lv4</td>\n",
       "    </tr>\n",
       "    <tr>\n",
       "      <th>2</th>\n",
       "      <td>13.112507</td>\n",
       "      <td>1.012000e+08</td>\n",
       "      <td>Lv4</td>\n",
       "    </tr>\n",
       "    <tr>\n",
       "      <th>3</th>\n",
       "      <td>11.173104</td>\n",
       "      <td>1.839999e+08</td>\n",
       "      <td>Lv4</td>\n",
       "    </tr>\n",
       "    <tr>\n",
       "      <th>4</th>\n",
       "      <td>9.335014</td>\n",
       "      <td>1.747999e+08</td>\n",
       "      <td>Lv4</td>\n",
       "    </tr>\n",
       "    <tr>\n",
       "      <th>5</th>\n",
       "      <td>9.110700</td>\n",
       "      <td>1.241999e+08</td>\n",
       "      <td>Lv4</td>\n",
       "    </tr>\n",
       "    <tr>\n",
       "      <th>6</th>\n",
       "      <td>8.654359</td>\n",
       "      <td>1.425999e+08</td>\n",
       "      <td>Lv4</td>\n",
       "    </tr>\n",
       "    <tr>\n",
       "      <th>7</th>\n",
       "      <td>7.667400</td>\n",
       "      <td>9.935996e+07</td>\n",
       "      <td>Lv4</td>\n",
       "    </tr>\n",
       "    <tr>\n",
       "      <th>8</th>\n",
       "      <td>7.404165</td>\n",
       "      <td>6.807997e+07</td>\n",
       "      <td>Lv4</td>\n",
       "    </tr>\n",
       "    <tr>\n",
       "      <th>9</th>\n",
       "      <td>6.326804</td>\n",
       "      <td>1.609999e+08</td>\n",
       "      <td>Lv4</td>\n",
       "    </tr>\n",
       "    <tr>\n",
       "      <th>10</th>\n",
       "      <td>6.200282</td>\n",
       "      <td>2.253999e+08</td>\n",
       "      <td>Lv4</td>\n",
       "    </tr>\n",
       "    <tr>\n",
       "      <th>11</th>\n",
       "      <td>6.189369</td>\n",
       "      <td>1.619199e+08</td>\n",
       "      <td>Lv4</td>\n",
       "    </tr>\n",
       "    <tr>\n",
       "      <th>12</th>\n",
       "      <td>6.118847</td>\n",
       "      <td>1.379999e+07</td>\n",
       "      <td>Lv3</td>\n",
       "    </tr>\n",
       "    <tr>\n",
       "      <th>13</th>\n",
       "      <td>5.984995</td>\n",
       "      <td>8.095996e+07</td>\n",
       "      <td>Lv4</td>\n",
       "    </tr>\n",
       "    <tr>\n",
       "      <th>14</th>\n",
       "      <td>5.944927</td>\n",
       "      <td>2.575999e+08</td>\n",
       "      <td>Lv4</td>\n",
       "    </tr>\n",
       "    <tr>\n",
       "      <th>15</th>\n",
       "      <td>5.898400</td>\n",
       "      <td>4.047998e+07</td>\n",
       "      <td>Lv4</td>\n",
       "    </tr>\n",
       "    <tr>\n",
       "      <th>16</th>\n",
       "      <td>5.749758</td>\n",
       "      <td>4.415998e+07</td>\n",
       "      <td>Lv4</td>\n",
       "    </tr>\n",
       "    <tr>\n",
       "      <th>17</th>\n",
       "      <td>5.573184</td>\n",
       "      <td>1.195999e+08</td>\n",
       "      <td>Lv4</td>\n",
       "    </tr>\n",
       "    <tr>\n",
       "      <th>18</th>\n",
       "      <td>5.556818</td>\n",
       "      <td>8.739996e+07</td>\n",
       "      <td>Lv4</td>\n",
       "    </tr>\n",
       "    <tr>\n",
       "      <th>19</th>\n",
       "      <td>5.476958</td>\n",
       "      <td>1.471999e+08</td>\n",
       "      <td>Lv4</td>\n",
       "    </tr>\n",
       "  </tbody>\n",
       "</table>\n",
       "</div>"
      ],
      "text/plain": [
       "    popularity        budget budget_level\n",
       "0    32.985763  1.379999e+08          Lv4\n",
       "1    28.419936  1.379999e+08          Lv4\n",
       "2    13.112507  1.012000e+08          Lv4\n",
       "3    11.173104  1.839999e+08          Lv4\n",
       "4     9.335014  1.747999e+08          Lv4\n",
       "5     9.110700  1.241999e+08          Lv4\n",
       "6     8.654359  1.425999e+08          Lv4\n",
       "7     7.667400  9.935996e+07          Lv4\n",
       "8     7.404165  6.807997e+07          Lv4\n",
       "9     6.326804  1.609999e+08          Lv4\n",
       "10    6.200282  2.253999e+08          Lv4\n",
       "11    6.189369  1.619199e+08          Lv4\n",
       "12    6.118847  1.379999e+07          Lv3\n",
       "13    5.984995  8.095996e+07          Lv4\n",
       "14    5.944927  2.575999e+08          Lv4\n",
       "15    5.898400  4.047998e+07          Lv4\n",
       "16    5.749758  4.415998e+07          Lv4\n",
       "17    5.573184  1.195999e+08          Lv4\n",
       "18    5.556818  8.739996e+07          Lv4\n",
       "19    5.476958  1.471999e+08          Lv4"
      ]
     },
     "execution_count": 29,
     "metadata": {},
     "output_type": "execute_result"
    }
   ],
   "source": [
    "# Creating the labels for the budget level\n",
    "bin_labels = ['Lv1', 'Lv2', 'Lv3', 'Lv4']\n",
    "\n",
    "# Adding new column that classfies based on the labels\n",
    "df_1['budget_level'] = pd.cut(df_1['budget'], intr_qrt, labels = bin_labels)\n",
    "\n",
    "# Shpowing samples of new df_1\n",
    "df_1.head(20)"
   ]
  },
  {
   "cell_type": "markdown",
   "metadata": {},
   "source": [
    "The sample clearly shows that the budget_level is properly created.\n",
    "\n",
    "Next, I will create dataframe called \"bud_ave\" that is groupby with budget_level and average popularity."
   ]
  },
  {
   "cell_type": "code",
   "execution_count": 30,
   "metadata": {},
   "outputs": [
    {
     "data": {
      "text/plain": [
       "budget_level\n",
       "Lv1    0.348766\n",
       "Lv2    0.357166\n",
       "Lv3    0.665730\n",
       "Lv4    1.399824\n",
       "Name: popularity, dtype: float64"
      ]
     },
     "execution_count": 30,
     "metadata": {},
     "output_type": "execute_result"
    }
   ],
   "source": [
    "# Creating an array groupby with budget_level with mean popularity for each level\n",
    "\n",
    "bud_ave = df_1.groupby('budget_level').popularity.mean() \n",
    "bud_ave"
   ]
  },
  {
   "cell_type": "markdown",
   "metadata": {},
   "source": [
    "The bud_ave clearly is correcly executed and next thing to do is to visualize this result through graph."
   ]
  },
  {
   "cell_type": "code",
   "execution_count": 31,
   "metadata": {
    "scrolled": true
   },
   "outputs": [
    {
     "data": {
      "image/png": "[encoded data removed]",
      "text/plain": [
       "<matplotlib.figure.Figure at 0x7ff48d2b36a0>"
      ]
     },
     "metadata": {
      "needs_background": "light"
     },
     "output_type": "display_data"
    }
   ],
   "source": [
    "# Plotting the bud_ave\n",
    "\n",
    "plt.bar(list(bud_ave.index), list(bud_ave))\n",
    "\n",
    "# Naming the title\n",
    "plt.title('Popularity vs Budget')\n",
    "\n",
    "# Naming the x-axis\n",
    "plt.xlabel('Budget Levels')\n",
    "# Naming the y-axis\n",
    "plt.ylabel('Popularity');"
   ]
  },
  {
   "cell_type": "markdown",
   "metadata": {},
   "source": [
    "The plot now clearly shows that higher the budget level, higher the popularity : that, the budget is directly proportional to popularity. Capitalism definitely exists in the movie!\n",
    "\n",
    "For the next factor, let's move on to another factor, votings. There are two of them, vote_count and vote_average. Intuitionally, \"the more the vote, the more the popularity\" makes perfect sense but who knows?\n",
    "\n",
    "Let's first look at the histograms vote_count and vote_average,"
   ]
  },
  {
   "cell_type": "code",
   "execution_count": 32,
   "metadata": {},
   "outputs": [
    {
     "data": {
      "image/png": "[encoded data removed]",
      "text/plain": [
       "<matplotlib.figure.Figure at 0x7ff48d378be0>"
      ]
     },
     "metadata": {
      "needs_background": "light"
     },
     "output_type": "display_data"
    },
    {
     "data": {
      "image/png": "[encoded data removed]",
      "text/plain": [
       "<matplotlib.figure.Figure at 0x7ff48d61c160>"
      ]
     },
     "metadata": {
      "needs_background": "light"
     },
     "output_type": "display_data"
    }
   ],
   "source": [
    "# Plotting histogram of the vote_count\n",
    "\n",
    "plt.hist(df['vote_count'])\n",
    "plt.title('Vote Count Histogram')\n",
    "plt.xlabel('Vote Count')\n",
    "plt.ylabel('Movie Countings')\n",
    "plt.show();\n",
    "\n",
    "# Plotting histogram of vote_average\n",
    "\n",
    "plt.hist(df['vote_average'])\n",
    "plt.title('Vote Average Histogram')\n",
    "plt.xlabel('Vote Average')\n",
    "plt.ylabel('Movie Countings')\n",
    "plt.show();"
   ]
  },
  {
   "cell_type": "markdown",
   "metadata": {},
   "source": [
    "These histograms represent that the vote_count histogram seems to be extremely right-skewed whereas the vote_average histogram seems to have quite balanced distribution yet little bit left-skewed.\n",
    "\n",
    "The plots imply that it is rare for movies to exceed 1000 votes and it is common for movies to have ratings around 5 to 7.\n",
    "\n",
    "Let us now see the plots of votes and popularity."
   ]
  },
  {
   "cell_type": "code",
   "execution_count": 33,
   "metadata": {
    "scrolled": true
   },
   "outputs": [
    {
     "data": {
      "image/png": "[encoded data removed]",
      "text/plain": [
       "<matplotlib.figure.Figure at 0x7ff48d2b39b0>"
      ]
     },
     "metadata": {
      "needs_background": "light"
     },
     "output_type": "display_data"
    },
    {
     "data": {
      "image/png": "[encoded data removed]",
      "text/plain": [
       "<matplotlib.figure.Figure at 0x7ff48dd054e0>"
      ]
     },
     "metadata": {
      "needs_background": "light"
     },
     "output_type": "display_data"
    }
   ],
   "source": [
    "# Plot : vote_count vs popularity\n",
    "\n",
    "df.plot(x=\"vote_count\", y=\"popularity\", kind=\"scatter\")\n",
    "\n",
    "# Plot : vote_average vs popularity\n",
    "df.plot(x=\"vote_average\", y=\"popularity\", kind='scatter');"
   ]
  },
  {
   "cell_type": "markdown",
   "metadata": {},
   "source": [
    "For the vote count plot, there seem to be 3 extremely popular outliers between 6000 and 8000 votes but it still clearly shows that vote_count matters to the popularity.\n",
    "\n",
    "For the vote_average plot, it also have 3 outliers but it shows clean directly-proportional ratio between vote_average and popularity.\n",
    "\n",
    "In short, both are postively related to the popularity.\n",
    "\n",
    "For the next factor, I will investigate into the runtime by first showing its histogram."
   ]
  },
  {
   "cell_type": "code",
   "execution_count": 34,
   "metadata": {},
   "outputs": [
    {
     "data": {
      "image/png": "[encoded data removed]",
      "text/plain": [
       "<matplotlib.figure.Figure at 0x7ff48dcdc240>"
      ]
     },
     "metadata": {
      "needs_background": "light"
     },
     "output_type": "display_data"
    }
   ],
   "source": [
    "# Plotting histogram of the runtime\n",
    "\n",
    "plt.hist(df['runtime'])\n",
    "plt.title('Runtime Histogram')\n",
    "plt.xlabel('Runtime')\n",
    "plt.ylabel('Movie Countings')\n",
    "plt.show();"
   ]
  },
  {
   "cell_type": "markdown",
   "metadata": {},
   "source": [
    "The histogram above is extremely right-skewed and implies that most movies' runtimes are between 0 to 150 minutes, which personally I agree with.\n",
    "\n",
    "Then I will plot that presents relationship between runtime and popularity."
   ]
  },
  {
   "cell_type": "code",
   "execution_count": 35,
   "metadata": {
    "scrolled": true
   },
   "outputs": [
    {
     "data": {
      "image/png": "[encoded data removed]",
      "text/plain": [
       "<matplotlib.figure.Figure at 0x7ff48dd1ada0>"
      ]
     },
     "metadata": {
      "needs_background": "light"
     },
     "output_type": "display_data"
    }
   ],
   "source": [
    "# Plot : runtime vs populatiry\n",
    "\n",
    "df.plot(x=\"runtime\", y=\"popularity\", kind=\"scatter\");"
   ]
  },
  {
   "cell_type": "markdown",
   "metadata": {},
   "source": [
    "It seems like there is a positive relationship at some point but drastically drops near 200 minutes in popularity as the runtime gets longer. Also, the plot shows that too much runtime is a decreasing factor.\n",
    "\n",
    "The relationship is weak to support to claim a relationship that I shall divide them into interquartile range, just like what I did in \"budget vs popularity\", and will plot again with average runtime groupby each interquairtles.\n",
    "\n",
    "First, I will create copy of orignal data called \"df_2\" that filters all columns except runtime and popularity."
   ]
  },
  {
   "cell_type": "code",
   "execution_count": 36,
   "metadata": {
    "scrolled": true
   },
   "outputs": [
    {
     "data": {
      "text/html": [
       "<div>\n",
       "<style scoped>\n",
       "    .dataframe tbody tr th:only-of-type {\n",
       "        vertical-align: middle;\n",
       "    }\n",
       "\n",
       "    .dataframe tbody tr th {\n",
       "        vertical-align: top;\n",
       "    }\n",
       "\n",
       "    .dataframe thead th {\n",
       "        text-align: right;\n",
       "    }\n",
       "</style>\n",
       "<table border=\"1\" class=\"dataframe\">\n",
       "  <thead>\n",
       "    <tr style=\"text-align: right;\">\n",
       "      <th></th>\n",
       "      <th>runtime</th>\n",
       "      <th>popularity</th>\n",
       "    </tr>\n",
       "  </thead>\n",
       "  <tbody>\n",
       "    <tr>\n",
       "      <th>0</th>\n",
       "      <td>124</td>\n",
       "      <td>32.985763</td>\n",
       "    </tr>\n",
       "    <tr>\n",
       "      <th>1</th>\n",
       "      <td>120</td>\n",
       "      <td>28.419936</td>\n",
       "    </tr>\n",
       "    <tr>\n",
       "      <th>2</th>\n",
       "      <td>119</td>\n",
       "      <td>13.112507</td>\n",
       "    </tr>\n",
       "    <tr>\n",
       "      <th>3</th>\n",
       "      <td>136</td>\n",
       "      <td>11.173104</td>\n",
       "    </tr>\n",
       "    <tr>\n",
       "      <th>4</th>\n",
       "      <td>137</td>\n",
       "      <td>9.335014</td>\n",
       "    </tr>\n",
       "  </tbody>\n",
       "</table>\n",
       "</div>"
      ],
      "text/plain": [
       "   runtime  popularity\n",
       "0      124   32.985763\n",
       "1      120   28.419936\n",
       "2      119   13.112507\n",
       "3      136   11.173104\n",
       "4      137    9.335014"
      ]
     },
     "execution_count": 36,
     "metadata": {},
     "output_type": "execute_result"
    }
   ],
   "source": [
    "# Creating a filtered copy\n",
    "\n",
    "df_2 = df.copy().filter(items=['runtime', 'popularity'])\n",
    "\n",
    "# Sample\n",
    "df_2.head()"
   ]
  },
  {
   "cell_type": "markdown",
   "metadata": {},
   "source": [
    "df_2 is clear in its form. \n",
    "\n",
    "Next is to create list of interquartile range of runtime called \"int_qrt\"."
   ]
  },
  {
   "cell_type": "code",
   "execution_count": 37,
   "metadata": {
    "scrolled": true
   },
   "outputs": [
    {
     "data": {
      "text/plain": [
       "[0.0, 90.0, 100.0, 112.0, 877.0]"
      ]
     },
     "execution_count": 37,
     "metadata": {},
     "output_type": "execute_result"
    }
   ],
   "source": [
    "# Creating a list of the runtime interquartile range.\n",
    "\n",
    "int_qrt = list(df_2.describe().runtime[3:9]) #Budget levles from 0% to 100%\n",
    "\n",
    "# Sample\n",
    "int_qrt"
   ]
  },
  {
   "cell_type": "markdown",
   "metadata": {},
   "source": [
    "The interquartile range is clearly set. Next is to classify the levels of interquartile range into 4 categories : \n",
    "\n",
    "Lv1 = [0% to 25%]\n",
    "\n",
    "Lv2 = [25% to 50%]\n",
    "\n",
    "Lv3 = [50% to 75%]\n",
    "\n",
    "Lv4 = [75% to 100%]\n",
    "\n",
    "After setting the levels, I will add new column into df_2 called 'runtime_level' that classifies the rows with the 4 levels."
   ]
  },
  {
   "cell_type": "code",
   "execution_count": 38,
   "metadata": {
    "scrolled": true
   },
   "outputs": [
    {
     "data": {
      "text/html": [
       "<div>\n",
       "<style scoped>\n",
       "    .dataframe tbody tr th:only-of-type {\n",
       "        vertical-align: middle;\n",
       "    }\n",
       "\n",
       "    .dataframe tbody tr th {\n",
       "        vertical-align: top;\n",
       "    }\n",
       "\n",
       "    .dataframe thead th {\n",
       "        text-align: right;\n",
       "    }\n",
       "</style>\n",
       "<table border=\"1\" class=\"dataframe\">\n",
       "  <thead>\n",
       "    <tr style=\"text-align: right;\">\n",
       "      <th></th>\n",
       "      <th>runtime</th>\n",
       "      <th>popularity</th>\n",
       "      <th>runtime_level</th>\n",
       "    </tr>\n",
       "  </thead>\n",
       "  <tbody>\n",
       "    <tr>\n",
       "      <th>0</th>\n",
       "      <td>124</td>\n",
       "      <td>32.985763</td>\n",
       "      <td>Lv4</td>\n",
       "    </tr>\n",
       "    <tr>\n",
       "      <th>1</th>\n",
       "      <td>120</td>\n",
       "      <td>28.419936</td>\n",
       "      <td>Lv4</td>\n",
       "    </tr>\n",
       "    <tr>\n",
       "      <th>2</th>\n",
       "      <td>119</td>\n",
       "      <td>13.112507</td>\n",
       "      <td>Lv4</td>\n",
       "    </tr>\n",
       "    <tr>\n",
       "      <th>3</th>\n",
       "      <td>136</td>\n",
       "      <td>11.173104</td>\n",
       "      <td>Lv4</td>\n",
       "    </tr>\n",
       "    <tr>\n",
       "      <th>4</th>\n",
       "      <td>137</td>\n",
       "      <td>9.335014</td>\n",
       "      <td>Lv4</td>\n",
       "    </tr>\n",
       "  </tbody>\n",
       "</table>\n",
       "</div>"
      ],
      "text/plain": [
       "   runtime  popularity runtime_level\n",
       "0      124   32.985763           Lv4\n",
       "1      120   28.419936           Lv4\n",
       "2      119   13.112507           Lv4\n",
       "3      136   11.173104           Lv4\n",
       "4      137    9.335014           Lv4"
      ]
     },
     "execution_count": 38,
     "metadata": {},
     "output_type": "execute_result"
    }
   ],
   "source": [
    "# List of classified levels\n",
    "\n",
    "run_levels = ['Lv1', 'Lv2', 'Lv3', 'Lv4']\n",
    "\n",
    "# Adding the new column as a classifier based on the levels\n",
    "\n",
    "df_2['runtime_level'] = pd.cut(df_2['runtime'], int_qrt, labels = run_levels)\n",
    "\n",
    "# Sample of the result\n",
    "df_2.head()"
   ]
  },
  {
   "cell_type": "markdown",
   "metadata": {},
   "source": [
    "The 'runtime_level' column is properly added to the df_2.\n",
    "\n",
    "Next, I will create dataframe called \"bud_ave\", a groupby data with runtime_level and is classfied average popularity in each runtime_level."
   ]
  },
  {
   "cell_type": "code",
   "execution_count": 39,
   "metadata": {},
   "outputs": [
    {
     "data": {
      "text/plain": [
       "runtime_level\n",
       "Lv1    0.449757\n",
       "Lv2    0.587258\n",
       "Lv3    0.690552\n",
       "Lv4    1.072615\n",
       "Name: popularity, dtype: float64"
      ]
     },
     "execution_count": 39,
     "metadata": {},
     "output_type": "execute_result"
    }
   ],
   "source": [
    "# Creating new dataframe, \"run_ave\", that \n",
    "\n",
    "run_ave = df_2.groupby('runtime_level').popularity.mean() #average populairty for each budget level\n",
    "\n",
    "run_ave"
   ]
  },
  {
   "cell_type": "markdown",
   "metadata": {},
   "source": [
    "Perfectly executed! Then now I will plot this in bar to visually represent the relationship with levels and popularity."
   ]
  },
  {
   "cell_type": "code",
   "execution_count": 40,
   "metadata": {},
   "outputs": [
    {
     "data": {
      "image/png": "[encoded data removed]",
      "text/plain": [
       "<matplotlib.figure.Figure at 0x7ff48d47ab70>"
      ]
     },
     "metadata": {
      "needs_background": "light"
     },
     "output_type": "display_data"
    }
   ],
   "source": [
    "# Plotting bar of run_ave\n",
    "\n",
    "plt.bar(list(run_ave.index), list(run_ave))\n",
    "\n",
    "# Naming the title\n",
    "plt.title('Popularity vs Runtime')\n",
    "# Naming the x-axis\n",
    "plt.xlabel('Runtime_Levels')\n",
    "# Naming the y-axis\n",
    "plt.ylabel('Popularity');"
   ]
  },
  {
   "cell_type": "markdown",
   "metadata": {},
   "source": [
    "As the runtime's level increases, the popularity increases as well.\n",
    "\n",
    "Although too much runtime might negatively affect the popularity, the average popularity of 75%+ runtime movies sketched highest bar.\n",
    "\n",
    ">Therefore, the conclusion for this Research Question is that :\n",
    "\n",
    ">#### In Average,\n",
    ">#### Budget ∝ Popularity\n",
    ">#### Vote Count ∝ Popularity\n",
    ">#### Vote Rating ∝ Popularity\n",
    ">#### Runtime ∝ Popularity"
   ]
  },
  {
   "cell_type": "markdown",
   "metadata": {},
   "source": [
    "### Research Question 2 : Will there be any change to their proportionality to the popularity for the top 25%?\n",
    "\n",
    ">Okay, it is clear that all those factors (Budget, Vote_Count, Vote_Rating, Runtime) directly matter to the popularity in general.\n",
    "\n",
    "> Then will the same scenario appear when the values are all above 75% or top 25%? Or other term, will the general proportionality still be hold when the analysis is within the ranges between [75%-80% , 80%-85% , 85%-90% , 90%-95%, 95%-100%]?\n",
    "\n",
    ">In this question, I will first create a function, \"ave_visualizer\", that exectues plot of dataframe that groupby popularity their own interquartile range within the range above 75%, and will further investigate on the graph."
   ]
  },
  {
   "cell_type": "markdown",
   "metadata": {},
   "source": [
    "In here, I will create a function, \"ave_visualizer\" that does all the process for visualizing the interquartile range with popularity."
   ]
  },
  {
   "cell_type": "code",
   "execution_count": 41,
   "metadata": {},
   "outputs": [],
   "source": [
    "# Creates ave_visualizer\n",
    "\n",
    "def ave_visualizer(factor):\n",
    "    # Creates new dataframe filered with popularity and factor\n",
    "    df_new = df.filter(items = ['popularity', factor])\n",
    "    # The 75% value in the interquartile range\n",
    "    the_75 = df_new.describe()[factor][6]\n",
    "    # Query that filters values above the 75% values\n",
    "    df_new = df_new.query('{} >= {}'.format(factor, the_75))\n",
    "    # Creates another interquartile range that is [75%-80% , 80%-85% , 85%-90% , 90%-95%, 95%-100%]\n",
    "    intr_qrt = list(df_new.describe()[factor][3:8])\n",
    "    # Naming the levels of the intr_qrt range\n",
    "    levels = ['Lv1', 'Lv2', 'Lv3', 'Lv4']\n",
    "    # Adding new coloumn that classfies the values based on the levels\n",
    "    df_new['{}_level'.format(factor)] = pd.cut(df_new[factor], intr_qrt, labels = levels)\n",
    "    # Creating data that groupby levels with average popularity\n",
    "    ave = df_new.groupby('{}_level'.format(factor)).popularity.mean()\n",
    "    \n",
    "    # Visualization\n",
    "    plt.bar(list(ave.index), list(ave))\n",
    "    # Naming the title\n",
    "    plt.title('Popularity vs {}'.format(factor))\n",
    "    # Naming the x-axis\n",
    "    plt.xlabel('{}_Levels'.format(factor))\n",
    "    # Naming the y-axis\n",
    "    plt.ylabel('Popularity')\n",
    "    plt.show;"
   ]
  },
  {
   "cell_type": "markdown",
   "metadata": {},
   "source": [
    "It was hard work but exectues exact result, the visualizer of interquartile ranges within the high-end level (level 4).\n",
    "\n",
    "Let us use this ultimate function to visualize budget first."
   ]
  },
  {
   "cell_type": "code",
   "execution_count": 42,
   "metadata": {},
   "outputs": [
    {
     "name": "stderr",
     "output_type": "stream",
     "text": [
      "/opt/conda/lib/python3.6/site-packages/ipykernel_launcher.py:15: SettingWithCopyWarning: \n",
      "A value is trying to be set on a copy of a slice from a DataFrame.\n",
      "Try using .loc[row_indexer,col_indexer] = value instead\n",
      "\n",
      "See the caveats in the documentation: http://pandas.pydata.org/pandas-docs/stable/indexing.html#indexing-view-versus-copy\n",
      "  from ipykernel import kernelapp as app\n"
     ]
    },
    {
     "data": {
      "image/png": "[encoded data removed]",
      "text/plain": [
       "<matplotlib.figure.Figure at 0x7ff48d1726d8>"
      ]
     },
     "metadata": {
      "needs_background": "light"
     },
     "output_type": "display_data"
    }
   ],
   "source": [
    "# Visualization of populatriy vs budget {budget => 75%}\n",
    "\n",
    "ave_visualizer('budget'); "
   ]
  },
  {
   "cell_type": "markdown",
   "metadata": {},
   "source": [
    "The box plot above shows that the average popularity becomes drastically high when it reaches the Lv4, implying that budget absolutely matter to the popularity.\n",
    "\n",
    "Next, let's look at the vote_count."
   ]
  },
  {
   "cell_type": "code",
   "execution_count": 43,
   "metadata": {
    "scrolled": false
   },
   "outputs": [
    {
     "name": "stderr",
     "output_type": "stream",
     "text": [
      "/opt/conda/lib/python3.6/site-packages/ipykernel_launcher.py:15: SettingWithCopyWarning: \n",
      "A value is trying to be set on a copy of a slice from a DataFrame.\n",
      "Try using .loc[row_indexer,col_indexer] = value instead\n",
      "\n",
      "See the caveats in the documentation: http://pandas.pydata.org/pandas-docs/stable/indexing.html#indexing-view-versus-copy\n",
      "  from ipykernel import kernelapp as app\n"
     ]
    },
    {
     "data": {
      "image/png": "[encoded data removed]",
      "text/plain": [
       "<matplotlib.figure.Figure at 0x7ff4bd904ac8>"
      ]
     },
     "metadata": {
      "needs_background": "light"
     },
     "output_type": "display_data"
    }
   ],
   "source": [
    "# Visualization of populatriy vs vote_count {vote_count => 75%}\n",
    "\n",
    "ave_visualizer('vote_count');"
   ]
  },
  {
   "cell_type": "markdown",
   "metadata": {},
   "source": [
    "The vote_count plot also cleary shows that when the vote_count reaches Lv4, the popularity immediately rises.\n",
    "\n",
    "What about the vote_average?"
   ]
  },
  {
   "cell_type": "code",
   "execution_count": 44,
   "metadata": {},
   "outputs": [
    {
     "name": "stderr",
     "output_type": "stream",
     "text": [
      "/opt/conda/lib/python3.6/site-packages/ipykernel_launcher.py:15: SettingWithCopyWarning: \n",
      "A value is trying to be set on a copy of a slice from a DataFrame.\n",
      "Try using .loc[row_indexer,col_indexer] = value instead\n",
      "\n",
      "See the caveats in the documentation: http://pandas.pydata.org/pandas-docs/stable/indexing.html#indexing-view-versus-copy\n",
      "  from ipykernel import kernelapp as app\n"
     ]
    },
    {
     "data": {
      "image/png": "[encoded data removed]",
      "text/plain": [
       "<matplotlib.figure.Figure at 0x7ff49f470908>"
      ]
     },
     "metadata": {
      "needs_background": "light"
     },
     "output_type": "display_data"
    }
   ],
   "source": [
    "# Visualization of populatriy vs vote_average {vote_average => 75%}\n",
    "\n",
    "ave_visualizer('vote_average');"
   ]
  },
  {
   "cell_type": "markdown",
   "metadata": {},
   "source": [
    "Nevertheless, the plot also points out that the vote_average is directly proportional to the popularity.\n",
    "\n",
    "Lastly, let's investigate the runtime."
   ]
  },
  {
   "cell_type": "code",
   "execution_count": 45,
   "metadata": {},
   "outputs": [
    {
     "name": "stderr",
     "output_type": "stream",
     "text": [
      "/opt/conda/lib/python3.6/site-packages/ipykernel_launcher.py:15: SettingWithCopyWarning: \n",
      "A value is trying to be set on a copy of a slice from a DataFrame.\n",
      "Try using .loc[row_indexer,col_indexer] = value instead\n",
      "\n",
      "See the caveats in the documentation: http://pandas.pydata.org/pandas-docs/stable/indexing.html#indexing-view-versus-copy\n",
      "  from ipykernel import kernelapp as app\n"
     ]
    },
    {
     "data": {
      "image/png": "[encoded data removed]",
      "text/plain": [
       "<matplotlib.figure.Figure at 0x7ff4a4b5b470>"
      ]
     },
     "metadata": {
      "needs_background": "light"
     },
     "output_type": "display_data"
    }
   ],
   "source": [
    "# Visualization of populatriy vs runtime {runtime => 75%}\n",
    "\n",
    "ave_visualizer('runtime');"
   ]
  },
  {
   "cell_type": "markdown",
   "metadata": {},
   "source": [
    "The runtime is not an exception. It similarly follows the generality rule that higher the runtime, higher the popularity."
   ]
  },
  {
   "cell_type": "markdown",
   "metadata": {},
   "source": [
    "> As shown above, the general rule that more the factors, more the popularity in average also holds when the factor values(top 25%) are in average classified by interquaritle range within [75%-80% , 80%-85% , 85%-90% , 90%-95%, 95%-100%].\n",
    "\n",
    "> Therefore the conclusion for this question is that :\n",
    "\n",
    ">#### In average within top 25%,\n",
    "\n",
    ">#### Budget ∝ Popularity\n",
    ">#### Vote Count ∝ Popularity\n",
    ">#### Vote Rating ∝ Popularity\n",
    ">#### Runtime ∝ Popularity\n",
    "\n",
    "> Same rules hold with the conclusion in question 1."
   ]
  },
  {
   "cell_type": "markdown",
   "metadata": {},
   "source": [
    "### Research Question 3  : Which genre was popular over time?\n",
    "\n",
    "> Now is the time to use \"df_genre\" in here, which was built in data wrangling.\n",
    "\n",
    "> To proceed, let's define about 'over time'. Should this be year by year? 3 year by 3 year? This will be decided by the shape of the histogram.\n",
    "\n",
    "> After deciding the definition of 'over time', I will create a function that will visualize the input with pie plot and will investigate after the visualization."
   ]
  },
  {
   "cell_type": "markdown",
   "metadata": {},
   "source": [
    "First thing first, to define the 'over time', let's see which shape is the histogram of release_year."
   ]
  },
  {
   "cell_type": "code",
   "execution_count": 46,
   "metadata": {
    "scrolled": true
   },
   "outputs": [
    {
     "data": {
      "image/png": "[encoded data removed]",
      "text/plain": [
       "<matplotlib.figure.Figure at 0x7ff48dcdc550>"
      ]
     },
     "metadata": {
      "needs_background": "light"
     },
     "output_type": "display_data"
    }
   ],
   "source": [
    "plt.hist(df_genre.release_year)\n",
    "plt.title('release_year Histogram')\n",
    "plt.xlabel('Release Year')\n",
    "plt.ylabel('Movie Countings')\n",
    "plt.show();"
   ]
  },
  {
   "cell_type": "markdown",
   "metadata": {},
   "source": [
    "The shape is left-skewed, which means that the definition of 'overtime' is the interquartile range of release_year.\n",
    "\n",
    "Interquartile range again!"
   ]
  },
  {
   "cell_type": "code",
   "execution_count": 47,
   "metadata": {},
   "outputs": [
    {
     "data": {
      "text/plain": [
       "count    18701.000000\n",
       "mean      2000.120207\n",
       "std         12.808294\n",
       "min       1960.000000\n",
       "25%       1993.000000\n",
       "50%       2004.000000\n",
       "75%       2010.000000\n",
       "max       2015.000000\n",
       "Name: release_year, dtype: float64"
      ]
     },
     "execution_count": 47,
     "metadata": {},
     "output_type": "execute_result"
    }
   ],
   "source": [
    "# Info of df_genres.release_year\n",
    "\n",
    "df_genre.release_year.describe()"
   ]
  },
  {
   "cell_type": "markdown",
   "metadata": {},
   "source": [
    "From above statistics, it is shown that min=1960, 25%=1993, 50%=2004, 75%=2010, max=2015. \n",
    "\n",
    "This means that\n",
    "\n",
    "1960 < 1st_qrt< 1993, \n",
    "\n",
    "1993 < 2nd_qrt < 2004, \n",
    "\n",
    "2004 < 3rd_qrt < 2010, \n",
    "\n",
    "2010 < 4th_qrt < 2015."
   ]
  },
  {
   "cell_type": "code",
   "execution_count": 48,
   "metadata": {},
   "outputs": [
    {
     "data": {
      "text/plain": [
       "[1599.9, 1993.0, 2004.0, 2010.0, 2015.0]"
      ]
     },
     "execution_count": 48,
     "metadata": {},
     "output_type": "execute_result"
    }
   ],
   "source": [
    "# Creating interquaritle range of the df_genre.release_year\n",
    "\n",
    "intr_qrt = list(df_genre.release_year.describe()[3:8])\n",
    "intr_qrt[0] = 1599.9\n",
    "intr_qrt"
   ]
  },
  {
   "cell_type": "markdown",
   "metadata": {},
   "source": [
    "I set the 1st quarter to be 1599.9 to avoid NA values when it groupby.\n",
    "\n",
    "Now, the interquartile setting is done. It says,\n",
    "\n",
    "0% = 1960\n",
    "\n",
    "25% = 1993\n",
    "\n",
    "50% = 2004\n",
    "\n",
    "75% = 2010\n",
    "\n",
    "100% = 2015\n",
    "\n",
    "Then I will create list called levels and this will be the value between each interquartile range."
   ]
  },
  {
   "cell_type": "code",
   "execution_count": 49,
   "metadata": {
    "scrolled": true
   },
   "outputs": [
    {
     "name": "stdout",
     "output_type": "stream",
     "text": [
      "<class 'pandas.core.frame.DataFrame'>\n",
      "Int64Index: 18701 entries, 0 to 10864\n",
      "Data columns (total 4 columns):\n",
      "popularity      18701 non-null float64\n",
      "release_year    18701 non-null int64\n",
      "genres          18701 non-null object\n",
      "quarter         18701 non-null category\n",
      "dtypes: category(1), float64(1), int64(1), object(1)\n",
      "memory usage: 602.9+ KB\n"
     ]
    }
   ],
   "source": [
    "# Naming the levels of the intr_qrt range\n",
    "\n",
    "levels = ['1qt', '2qt', '3qt', '4qt']\n",
    "\n",
    "# Adding new coloumn that classfies the values based on the levels\n",
    "\n",
    "df_genre['quarter']= pd.cut(df_genre['release_year'], intr_qrt, labels = levels)\n",
    "df_genre.info()"
   ]
  },
  {
   "cell_type": "markdown",
   "metadata": {},
   "source": [
    "I just added new column called \"quarter\" and and in there, values are set in a way that :\n",
    "\n",
    "1qt = [0% - 25%]\n",
    "\n",
    "2qt = [25% - 50%]\n",
    "\n",
    "3qt = [50% - 75%]\n",
    "\n",
    "4qt = [75% - 100%]\n",
    "\n",
    "Next, I will groupby the data with 'quarter' and 'genres' and average."
   ]
  },
  {
   "cell_type": "code",
   "execution_count": 50,
   "metadata": {},
   "outputs": [
    {
     "data": {
      "text/html": [
       "<div>\n",
       "<style scoped>\n",
       "    .dataframe tbody tr th:only-of-type {\n",
       "        vertical-align: middle;\n",
       "    }\n",
       "\n",
       "    .dataframe tbody tr th {\n",
       "        vertical-align: top;\n",
       "    }\n",
       "\n",
       "    .dataframe thead th {\n",
       "        text-align: right;\n",
       "    }\n",
       "</style>\n",
       "<table border=\"1\" class=\"dataframe\">\n",
       "  <thead>\n",
       "    <tr style=\"text-align: right;\">\n",
       "      <th></th>\n",
       "      <th></th>\n",
       "      <th>popularity</th>\n",
       "      <th>release_year</th>\n",
       "    </tr>\n",
       "    <tr>\n",
       "      <th>quarter</th>\n",
       "      <th>genres</th>\n",
       "      <th></th>\n",
       "      <th></th>\n",
       "    </tr>\n",
       "  </thead>\n",
       "  <tbody>\n",
       "    <tr>\n",
       "      <th rowspan=\"5\" valign=\"top\">1qt</th>\n",
       "      <th>Action</th>\n",
       "      <td>0.663253</td>\n",
       "      <td>1982.111927</td>\n",
       "    </tr>\n",
       "    <tr>\n",
       "      <th>Adventure</th>\n",
       "      <td>0.825351</td>\n",
       "      <td>1981.512195</td>\n",
       "    </tr>\n",
       "    <tr>\n",
       "      <th>Animation</th>\n",
       "      <td>0.794427</td>\n",
       "      <td>1981.223881</td>\n",
       "    </tr>\n",
       "    <tr>\n",
       "      <th>Comedy</th>\n",
       "      <td>0.521856</td>\n",
       "      <td>1983.076177</td>\n",
       "    </tr>\n",
       "    <tr>\n",
       "      <th>Crime</th>\n",
       "      <td>0.556680</td>\n",
       "      <td>1982.478386</td>\n",
       "    </tr>\n",
       "  </tbody>\n",
       "</table>\n",
       "</div>"
      ],
      "text/plain": [
       "                   popularity  release_year\n",
       "quarter genres                             \n",
       "1qt     Action       0.663253   1982.111927\n",
       "        Adventure    0.825351   1981.512195\n",
       "        Animation    0.794427   1981.223881\n",
       "        Comedy       0.521856   1983.076177\n",
       "        Crime        0.556680   1982.478386"
      ]
     },
     "execution_count": 50,
     "metadata": {},
     "output_type": "execute_result"
    }
   ],
   "source": [
    "# Creating groupby data with quarter and genre, and their average\n",
    "\n",
    "df_gen_qrt = df_genre.groupby(['quarter','genres']).mean()\n",
    "\n",
    "# Sample\n",
    "df_gen_qrt.head()"
   ]
  },
  {
   "cell_type": "markdown",
   "metadata": {},
   "source": [
    "The new data is successfully executed.\n",
    "\n",
    "Next is to break the data into 4 quarters with popularity columns."
   ]
  },
  {
   "cell_type": "code",
   "execution_count": 55,
   "metadata": {},
   "outputs": [],
   "source": [
    "# Creating 1st quarter data\n",
    "first_qt = df_gen_qrt.iloc[0:15].popularity\n",
    "\n",
    "# Creating 2nd quarter data\n",
    "second_qt = df_gen_qrt.iloc[15:30].popularity\n",
    "\n",
    "# Creating 3rd quarter data\n",
    "third_qt = df_gen_qrt.iloc[30:45].popularity\n",
    "\n",
    "# Creating 4th quarter data\n",
    "fourth_qt = df_gen_qrt.iloc[45:].popularity"
   ]
  },
  {
   "cell_type": "markdown",
   "metadata": {},
   "source": [
    "All quarterly data created! Let's create labels that has unique values of genres."
   ]
  },
  {
   "cell_type": "code",
   "execution_count": 56,
   "metadata": {},
   "outputs": [
    {
     "data": {
      "text/plain": [
       "['Action',\n",
       " 'Adventure',\n",
       " 'Animation',\n",
       " 'Comedy',\n",
       " 'Crime',\n",
       " 'Drama',\n",
       " 'Family',\n",
       " 'Fantasy',\n",
       " 'History',\n",
       " 'Mystery',\n",
       " 'Romance',\n",
       " 'Science Fiction',\n",
       " 'Thriller',\n",
       " 'War',\n",
       " 'Western']"
      ]
     },
     "execution_count": 56,
     "metadata": {},
     "output_type": "execute_result"
    }
   ],
   "source": [
    "labels = sorted(df_genre.genres.unique()) # labels\n",
    "labels"
   ]
  },
  {
   "cell_type": "markdown",
   "metadata": {},
   "source": [
    "Labels done! It's a function time. This function will will visualize the data in pie chart.\n",
    "\n",
    "For the detail of function, please read the comments carefully."
   ]
  },
  {
   "cell_type": "code",
   "execution_count": 57,
   "metadata": {
    "scrolled": true
   },
   "outputs": [],
   "source": [
    "def visual(qrt):           # Visual function\n",
    "    expld_index = []\n",
    "    def explode_index(qrt): # This function creates explode_index. This will differentiate the first, second, and third.\n",
    "        for a in range(len(qrt)):\n",
    "            b = list(qrt.copy()) \n",
    "            b.remove(max(qrt)) # b exists to get the 2nd max\n",
    "            c = b.copy()\n",
    "            c.remove(max(b))   # c exists to get the 3rd max\n",
    "            if qrt[a] == max(qrt):\n",
    "                expld_index.append(0.3) # 0.3 if max\n",
    "            elif qrt[a] == max(b):\n",
    "                expld_index.append(0.2) # 0.2 if 2nd max\n",
    "            elif qrt[a] == max(c):\n",
    "                expld_index.append(0.1) # 0.1 if 3rd max\n",
    "            else:\n",
    "                expld_index.append(0)\n",
    "        return expld_index\n",
    "    # Setting the subplots\n",
    "    fig1, ax1 = plt.subplots()\n",
    "    # Pie plotting\n",
    "    ax1.pie(qrt, labels=labels,autopct='%1.1f%%', shadow=True, startangle=140, pctdistance=0.9, labeldistance=1.2, explode=explode_index(qrt))\n",
    "    ax1.axis('equal')\n",
    "    # The titles\n",
    "    if qrt.index[0][0] == '1qt':\n",
    "        fig1.suptitle('First Quarter : 1960 ~ 1993', fontsize='x-large')\n",
    "    elif qrt.index[0][0] == '2qt':\n",
    "        fig1.suptitle('Second Quarter : 1993 ~ 2004', fontsize='x-large')\n",
    "    elif qrt.index[0][0] == '3qt':\n",
    "        fig1.suptitle('Third Quarter : 2004 ~ 2010', fontsize='x-large')\n",
    "    else:\n",
    "        fig1.suptitle('Fourth Quarter : 2010 ~ 2015', fontsize='x-large')\n"
   ]
  },
  {
   "cell_type": "code",
   "execution_count": 58,
   "metadata": {
    "scrolled": false
   },
   "outputs": [
    {
     "data": {
      "image/png": "[encoded data removed]",
      "text/plain": [
       "<matplotlib.figure.Figure at 0x7ff48d32c978>"
      ]
     },
     "metadata": {},
     "output_type": "display_data"
    },
    {
     "data": {
      "image/png": "[encoded data removed]",
      "text/plain": [
       "<matplotlib.figure.Figure at 0x7ff48d32cd68>"
      ]
     },
     "metadata": {},
     "output_type": "display_data"
    },
    {
     "data": {
      "image/png": "[encoded data removed]",
      "text/plain": [
       "<matplotlib.figure.Figure at 0x7ff48dc98c18>"
      ]
     },
     "metadata": {},
     "output_type": "display_data"
    },
    {
     "data": {
      "image/png": "[encoded data removed]",
      "text/plain": [
       "<matplotlib.figure.Figure at 0x7ff48dc91eb8>"
      ]
     },
     "metadata": {},
     "output_type": "display_data"
    }
   ],
   "source": [
    "# first_quarter visualizaiton\n",
    "visual(first_qt) \n",
    "# second_quarter visualizaiton\n",
    "visual(second_qt) \n",
    "# third_quarter visualizaiton\n",
    "visual(third_qt) \n",
    "# fourth_quarter visualizaiton\n",
    "visual(fourth_qt) "
   ]
  },
  {
   "cell_type": "markdown",
   "metadata": {},
   "source": [
    "### Horray! Therefore, the graph shows that the genres with popularity over time period are\n",
    "\n",
    ">1st quarter (1960 ~ 1993) :  1st - Science Fiction, 2nd - Adventure, 3rd - Animation\n",
    "\n",
    ">2nd quarter (1993 ~ 2004) : 1st - Fantasy, 2nd - Adventure, 3rd - Animation \n",
    "\n",
    ">3rd quarter (2004 ~ 2010) : 1st - Fantasy, 2nd - Adventure, 3rd - Science Fiction \n",
    "\n",
    ">4th quarter (2010 ~ 2015) : 1st - Science Fiction, Adventure, 3rd - Western.\n",
    "\n"
   ]
  },
  {
   "cell_type": "markdown",
   "metadata": {},
   "source": [
    "<a id='limitation'></a>\n",
    "## Limitations\n",
    "\n",
    "1. Null Values - Among the columns, cast had 10790 {NA:76}, director had 10822 {NA:44}, genres had 10843 {NA:23}, and production_companies had 9836 {NA:1030}. When I dropped all the null values, the rows changed from 10866 to 9773. Thus, there were total 1093 rows had been deleted.\n",
    "\n",
    "2. Duplicated Values - There was 1 duplicated values and I dropped it. So, the total values I dropped were 1094 rows, which was approximately 10% of the original data.\n",
    "\n",
    "3. Outliers - There were 3 outliers in budget, runtime, vote analysis and the calculation includes those outliers.\n",
    "\n",
    "4. Statistical Approach - I used interquartile ranges most of the times but could have had better insights if I also tried other statistics."
   ]
  },
  {
   "cell_type": "markdown",
   "metadata": {},
   "source": [
    "<a id='conclusions'></a>\n",
    "## Conclusions\n",
    "\n",
    "Overall, this analysis provides insight of the questions that,\n",
    "\n",
    "1. In average, popularity is directly proportional to budget, runtime, vote counts, and vote average.\n",
    "\n",
    "2. Even in average among the top 25%, same result from question 1 applies.\n",
    "\n",
    "3. The popularity of genres shifts time to time : \n",
    "\n",
    "In 1960-1993, the most popular genre was Science Fiction,\n",
    "\n",
    "in 1993-2010, the most popular one was Fantasy, \n",
    "\n",
    "in 2010-2015, the popular ones were Science Fiction and Adventure.\n",
    "\n",
    "\n",
    "Thank you very much for reading!"
   ]
  },
  {
   "cell_type": "code",
   "execution_count": 666,
   "metadata": {},
   "outputs": [
    {
     "data": {
      "text/plain": [
       "0"
      ]
     },
     "execution_count": 666,
     "metadata": {},
     "output_type": "execute_result"
    }
   ],
   "source": [
    "from subprocess import call\n",
    "call(['python', '-m', 'nbconvert', 'Investigate_a_Dataset.ipynb'])"
   ]
  }
 ],
 "metadata": {
  "kernelspec": {
   "display_name": "Python 3",
   "language": "python",
   "name": "python3"
  },
  "language_info": {
   "codemirror_mode": {
    "name": "ipython",
    "version": 3
   },
   "file_extension": ".py",
   "mimetype": "text/x-python",
   "name": "python",
   "nbconvert_exporter": "python",
   "pygments_lexer": "ipython3",
   "version": "3.6.3"
  }
 },
 "nbformat": 4,
 "nbformat_minor": 2
}
